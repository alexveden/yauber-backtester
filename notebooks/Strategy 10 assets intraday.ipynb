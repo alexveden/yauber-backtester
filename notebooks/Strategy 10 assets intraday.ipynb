{
 "cells": [
  {
   "cell_type": "code",
   "execution_count": 1,
   "metadata": {},
   "outputs": [],
   "source": [
    "import pandas as pd\n",
    "import numpy as np"
   ]
  },
  {
   "cell_type": "code",
   "execution_count": 2,
   "metadata": {},
   "outputs": [
    {
     "name": "stdout",
     "output_type": "stream",
     "text": [
      "Populating the interactive namespace from numpy and matplotlib\n"
     ]
    }
   ],
   "source": [
    "%pylab inline\n",
    "%load_ext autoreload\n",
    "%autoreload 2"
   ]
  },
  {
   "cell_type": "code",
   "execution_count": 6,
   "metadata": {},
   "outputs": [],
   "source": [
    "from yauber_backtester import Asset, Backtester, Strategy, Account, Report, MFrame"
   ]
  },
  {
   "cell_type": "markdown",
   "metadata": {},
   "source": [
    "# Create 10 random assets (2010 - 2018 x 60minute intraday)\n"
   ]
  },
  {
   "cell_type": "code",
   "execution_count": 7,
   "metadata": {},
   "outputs": [],
   "source": [
    "def make_rnd_asset(name):\n",
    "    dt_index = pd.date_range('2010-01-01', '2018-01-01', freq='60T')\n",
    "    ser = pd.Series(np.random.normal(size=len(dt_index)), index=dt_index).cumsum()\n",
    "    asset_dict = {\n",
    "            'ticker': f'RND_{name}',\n",
    "            'quotes': pd.DataFrame({\n",
    "                'o': ser,\n",
    "                'h': ser,\n",
    "                'l': ser,\n",
    "                'c': ser,\n",
    "                'exec': ser.shift(-1),\n",
    "            }, index=ser.index),\n",
    "    }\n",
    "    \n",
    "    return Asset(**asset_dict)\n",
    "    "
   ]
  },
  {
   "cell_type": "markdown",
   "metadata": {},
   "source": [
    "# Simple strategy"
   ]
  },
  {
   "cell_type": "markdown",
   "metadata": {},
   "source": [
    "Each day the strategy will randompy pick on of 10 assets in the universe, which has price greater MA200"
   ]
  },
  {
   "cell_type": "code",
   "execution_count": 12,
   "metadata": {},
   "outputs": [],
   "source": [
    "class SimpleStrategy(Strategy):\n",
    "    name = \"SimpleStrategy\"\n",
    "    \n",
    "    def calculate(self, asset: Asset) -> pd.DataFrame:\n",
    "        \"\"\"\n",
    "        Calculates main logic of the strategy, this method must return pd.DataFrame or None (if asset is filtered at all)\n",
    "        This information is used by portfolio composition stage\n",
    "        \"\"\"\n",
    "        \n",
    "        # Check if asset is greater MA200\n",
    "        ohlc = asset.quotes()\n",
    "        \n",
    "        ma200 =  ohlc['c'].rolling(200).mean()\n",
    "        is_gt_ma200 = ohlc['c'] > ma200\n",
    "        \n",
    "        return pd.DataFrame({\n",
    "            'is_gt_ma200': is_gt_ma200,\n",
    "            'ma200': ma200,           \n",
    "        })\n",
    "\n",
    "    def compose_portfolio(self, date: datetime, account: Account, mf: MFrame) -> dict:\n",
    "        \"\"\"\n",
    "        Returns a dictionary of portfolio composition at specific 'date'\n",
    "        :param date: analysis date\n",
    "        :param account: actual account at the previous date (see. Account class interface)\n",
    "        :param mf: composite of metrics returned by self.calculate() method at 'date'\n",
    "\n",
    "        :return: dictionary of  {asset_class_instance: float_opened_quantity, ... }\n",
    "\n",
    "        -----------\n",
    "        mf - cheat sheet\n",
    "        -----------\n",
    "        mf.assets - list of all assets\n",
    "        mf.columns - list of all columns / metrics\n",
    "        mf['metric_name'] - get metric 'metric_name' numpy array across all assets\n",
    "        for asset, row in mf.items():  - iterate over all assets and rows, you can use row['metric_name'] too\n",
    "        mf.get_at('asset_ticker', 'metric_name') - get scalar value of 'metric_name' for asset 'asset_ticker'\n",
    "        mf.get_asset('asset_ticker') - get asset object by ticker name\n",
    "        mf.get_filtered((mf['some_metric'] > 0) & (mf['another_metric'] == 1), sort_by_col='another_metric'[or None]) - get filtered and sorted data\n",
    "        for (asset, m_data) in zip(*mf.get_filtered(_cond, sort_by_col='ma200')): - iterate over filtered and sorted results\n",
    "        filtered_assets, filtere_data  = mf.get_filtered(..some condition..) - get filtered asset list and metrics\n",
    "        mf.as_dataframe() - converts MFrame to Pandas.DataFrame. Warning: calculations might become much slower!\n",
    "        \"\"\"\n",
    "        position = {}\n",
    "        flt_assets, flt_data = mf.get_filtered(mf['is_gt_ma200'] == 1)\n",
    "        \n",
    "        if len(flt_assets) > 0:\n",
    "            # Randomly pick one of assets that has Close > MA(Close, 200)\n",
    "            rnd_asset_idx = np.random.randint(0, len(flt_assets))\n",
    "\n",
    "            # Open long position on that asset\n",
    "            position[flt_assets[rnd_asset_idx]] = 1.0\n",
    "          \n",
    "        return position\n",
    "        "
   ]
  },
  {
   "cell_type": "markdown",
   "metadata": {},
   "source": [
    "# Initialize and run backtester"
   ]
  },
  {
   "cell_type": "code",
   "execution_count": 13,
   "metadata": {},
   "outputs": [],
   "source": [
    "strategy = SimpleStrategy()\n",
    "assets10 = [make_rnd_asset(i) for i in range(10)]"
   ]
  },
  {
   "cell_type": "markdown",
   "metadata": {},
   "source": [
    "### Backtesting speed\n",
    "10 assets x 70000 data points"
   ]
  },
  {
   "cell_type": "code",
   "execution_count": 14,
   "metadata": {},
   "outputs": [
    {
     "name": "stdout",
     "output_type": "stream",
     "text": [
      "10.5 s ± 110 ms per loop (mean ± std. dev. of 7 runs, 1 loop each)\n"
     ]
    }
   ],
   "source": [
    "%timeit Backtester.run(strategy, assets10, acc_name='Random1000', acc_initial_capital=1000)"
   ]
  },
  {
   "cell_type": "markdown",
   "metadata": {},
   "source": [
    "### Run backtester and store results"
   ]
  },
  {
   "cell_type": "code",
   "execution_count": 15,
   "metadata": {},
   "outputs": [],
   "source": [
    "acc = Backtester.run(strategy, assets10, acc_name='Random1000', acc_initial_capital=1000)"
   ]
  },
  {
   "cell_type": "markdown",
   "metadata": {},
   "source": [
    "### Aquire account historical series"
   ]
  },
  {
   "cell_type": "code",
   "execution_count": 16,
   "metadata": {},
   "outputs": [
    {
     "data": {
      "text/html": [
       "<div>\n",
       "<style scoped>\n",
       "    .dataframe tbody tr th:only-of-type {\n",
       "        vertical-align: middle;\n",
       "    }\n",
       "\n",
       "    .dataframe tbody tr th {\n",
       "        vertical-align: top;\n",
       "    }\n",
       "\n",
       "    .dataframe thead th {\n",
       "        text-align: right;\n",
       "    }\n",
       "</style>\n",
       "<table border=\"1\" class=\"dataframe\">\n",
       "  <thead>\n",
       "    <tr style=\"text-align: right;\">\n",
       "      <th></th>\n",
       "      <th>capital_invested</th>\n",
       "      <th>costs</th>\n",
       "      <th>equity</th>\n",
       "      <th>margin</th>\n",
       "      <th>pnl</th>\n",
       "    </tr>\n",
       "  </thead>\n",
       "  <tbody>\n",
       "    <tr>\n",
       "      <th>2017-12-31 20:00:00</th>\n",
       "      <td>1000.0</td>\n",
       "      <td>0.0</td>\n",
       "      <td>1187.562938</td>\n",
       "      <td>-16.901115</td>\n",
       "      <td>0.479996</td>\n",
       "    </tr>\n",
       "    <tr>\n",
       "      <th>2017-12-31 21:00:00</th>\n",
       "      <td>1000.0</td>\n",
       "      <td>0.0</td>\n",
       "      <td>1186.910677</td>\n",
       "      <td>-294.228770</td>\n",
       "      <td>-0.652261</td>\n",
       "    </tr>\n",
       "    <tr>\n",
       "      <th>2017-12-31 22:00:00</th>\n",
       "      <td>1000.0</td>\n",
       "      <td>0.0</td>\n",
       "      <td>1185.574412</td>\n",
       "      <td>-295.565036</td>\n",
       "      <td>-1.336265</td>\n",
       "    </tr>\n",
       "    <tr>\n",
       "      <th>2017-12-31 23:00:00</th>\n",
       "      <td>1000.0</td>\n",
       "      <td>0.0</td>\n",
       "      <td>1184.669357</td>\n",
       "      <td>-17.507697</td>\n",
       "      <td>-0.905055</td>\n",
       "    </tr>\n",
       "    <tr>\n",
       "      <th>2018-01-01 00:00:00</th>\n",
       "      <td>1000.0</td>\n",
       "      <td>0.0</td>\n",
       "      <td>NaN</td>\n",
       "      <td>NaN</td>\n",
       "      <td>NaN</td>\n",
       "    </tr>\n",
       "  </tbody>\n",
       "</table>\n",
       "</div>"
      ],
      "text/plain": [
       "                     capital_invested  costs       equity      margin  \\\n",
       "2017-12-31 20:00:00            1000.0    0.0  1187.562938  -16.901115   \n",
       "2017-12-31 21:00:00            1000.0    0.0  1186.910677 -294.228770   \n",
       "2017-12-31 22:00:00            1000.0    0.0  1185.574412 -295.565036   \n",
       "2017-12-31 23:00:00            1000.0    0.0  1184.669357  -17.507697   \n",
       "2018-01-01 00:00:00            1000.0    0.0          NaN         NaN   \n",
       "\n",
       "                          pnl  \n",
       "2017-12-31 20:00:00  0.479996  \n",
       "2017-12-31 21:00:00 -0.652261  \n",
       "2017-12-31 22:00:00 -1.336265  \n",
       "2017-12-31 23:00:00 -0.905055  \n",
       "2018-01-01 00:00:00       NaN  "
      ]
     },
     "execution_count": 16,
     "metadata": {},
     "output_type": "execute_result"
    }
   ],
   "source": [
    "acc_df = acc.as_dataframe()\n",
    "acc_df.tail()"
   ]
  },
  {
   "cell_type": "markdown",
   "metadata": {},
   "source": [
    "### Last opened position"
   ]
  },
  {
   "cell_type": "code",
   "execution_count": 17,
   "metadata": {},
   "outputs": [
    {
     "data": {
      "text/plain": [
       "{Asset<RND_5>: RND_5 x 1.0}"
      ]
     },
     "execution_count": 17,
     "metadata": {},
     "output_type": "execute_result"
    }
   ],
   "source": [
    "acc.position()"
   ]
  },
  {
   "cell_type": "markdown",
   "metadata": {},
   "source": [
    "# Backtesting report"
   ]
  },
  {
   "cell_type": "code",
   "execution_count": 18,
   "metadata": {},
   "outputs": [],
   "source": [
    "rpt = Report([acc])"
   ]
  },
  {
   "cell_type": "code",
   "execution_count": 19,
   "metadata": {},
   "outputs": [
    {
     "data": {
      "text/html": [
       "<div>\n",
       "<style scoped>\n",
       "    .dataframe tbody tr th:only-of-type {\n",
       "        vertical-align: middle;\n",
       "    }\n",
       "\n",
       "    .dataframe tbody tr th {\n",
       "        vertical-align: top;\n",
       "    }\n",
       "\n",
       "    .dataframe thead th {\n",
       "        text-align: right;\n",
       "    }\n",
       "</style>\n",
       "<table border=\"1\" class=\"dataframe\">\n",
       "  <thead>\n",
       "    <tr style=\"text-align: right;\">\n",
       "      <th></th>\n",
       "      <th>Random1000</th>\n",
       "    </tr>\n",
       "  </thead>\n",
       "  <tbody>\n",
       "    <tr>\n",
       "      <th>Equity</th>\n",
       "      <td>1184.669357</td>\n",
       "    </tr>\n",
       "    <tr>\n",
       "      <th>CAGR %</th>\n",
       "      <td>2.140847</td>\n",
       "    </tr>\n",
       "    <tr>\n",
       "      <th>NetProfit $</th>\n",
       "      <td>184.669357</td>\n",
       "    </tr>\n",
       "    <tr>\n",
       "      <th>NetProfit %</th>\n",
       "      <td>18.466936</td>\n",
       "    </tr>\n",
       "    <tr>\n",
       "      <th>MaxDD $</th>\n",
       "      <td>-272.982642</td>\n",
       "    </tr>\n",
       "    <tr>\n",
       "      <th>MaxDD %</th>\n",
       "      <td>-21.651340</td>\n",
       "    </tr>\n",
       "    <tr>\n",
       "      <th>NumberOfTrades</th>\n",
       "      <td>54725.000000</td>\n",
       "    </tr>\n",
       "    <tr>\n",
       "      <th>WinRate</th>\n",
       "      <td>0.497963</td>\n",
       "    </tr>\n",
       "    <tr>\n",
       "      <th>CAGR/MDD</th>\n",
       "      <td>0.098878</td>\n",
       "    </tr>\n",
       "    <tr>\n",
       "      <th>CapitalInvested (Avg)</th>\n",
       "      <td>1000.000000</td>\n",
       "    </tr>\n",
       "    <tr>\n",
       "      <th>CapitalInvested (Total)</th>\n",
       "      <td>1000.000000</td>\n",
       "    </tr>\n",
       "  </tbody>\n",
       "</table>\n",
       "</div>"
      ],
      "text/plain": [
       "                           Random1000\n",
       "Equity                    1184.669357\n",
       "CAGR %                       2.140847\n",
       "NetProfit $                184.669357\n",
       "NetProfit %                 18.466936\n",
       "MaxDD $                   -272.982642\n",
       "MaxDD %                    -21.651340\n",
       "NumberOfTrades           54725.000000\n",
       "WinRate                      0.497963\n",
       "CAGR/MDD                     0.098878\n",
       "CapitalInvested (Avg)     1000.000000\n",
       "CapitalInvested (Total)   1000.000000"
      ]
     },
     "execution_count": 19,
     "metadata": {},
     "output_type": "execute_result"
    }
   ],
   "source": [
    "rpt.stats()"
   ]
  },
  {
   "cell_type": "code",
   "execution_count": 20,
   "metadata": {},
   "outputs": [
    {
     "data": {
      "text/html": [
       "<div>\n",
       "<style scoped>\n",
       "    .dataframe tbody tr th:only-of-type {\n",
       "        vertical-align: middle;\n",
       "    }\n",
       "\n",
       "    .dataframe tbody tr th {\n",
       "        vertical-align: top;\n",
       "    }\n",
       "\n",
       "    .dataframe thead th {\n",
       "        text-align: right;\n",
       "    }\n",
       "</style>\n",
       "<table border=\"1\" class=\"dataframe\">\n",
       "  <thead>\n",
       "    <tr style=\"text-align: right;\">\n",
       "      <th></th>\n",
       "      <th>asset</th>\n",
       "      <th>date_entry</th>\n",
       "      <th>date_exit</th>\n",
       "      <th>side</th>\n",
       "      <th>n_transactions</th>\n",
       "      <th>wavg_price_entered</th>\n",
       "      <th>wavg_price_exited</th>\n",
       "      <th>qty_entered</th>\n",
       "      <th>qty_exited</th>\n",
       "      <th>pnl</th>\n",
       "      <th>costs</th>\n",
       "    </tr>\n",
       "  </thead>\n",
       "  <tbody>\n",
       "    <tr>\n",
       "      <th>54720</th>\n",
       "      <td>RND_5</td>\n",
       "      <td>2017-12-31 19:00:00</td>\n",
       "      <td>2017-12-31 20:00:00</td>\n",
       "      <td>1</td>\n",
       "      <td>2</td>\n",
       "      <td>108.858848</td>\n",
       "      <td>109.338844</td>\n",
       "      <td>1.0</td>\n",
       "      <td>1.0</td>\n",
       "      <td>0.479996</td>\n",
       "      <td>0.0</td>\n",
       "    </tr>\n",
       "    <tr>\n",
       "      <th>54721</th>\n",
       "      <td>RND_3</td>\n",
       "      <td>2017-12-31 20:00:00</td>\n",
       "      <td>2017-12-31 21:00:00</td>\n",
       "      <td>1</td>\n",
       "      <td>2</td>\n",
       "      <td>-16.901115</td>\n",
       "      <td>-17.553376</td>\n",
       "      <td>1.0</td>\n",
       "      <td>1.0</td>\n",
       "      <td>-0.652261</td>\n",
       "      <td>0.0</td>\n",
       "    </tr>\n",
       "    <tr>\n",
       "      <th>54722</th>\n",
       "      <td>RND_7</td>\n",
       "      <td>2017-12-31 21:00:00</td>\n",
       "      <td>2017-12-31 23:00:00</td>\n",
       "      <td>1</td>\n",
       "      <td>2</td>\n",
       "      <td>-294.228770</td>\n",
       "      <td>-296.470090</td>\n",
       "      <td>1.0</td>\n",
       "      <td>1.0</td>\n",
       "      <td>-2.241320</td>\n",
       "      <td>0.0</td>\n",
       "    </tr>\n",
       "    <tr>\n",
       "      <th>54723</th>\n",
       "      <td>RND_3</td>\n",
       "      <td>2017-12-31 23:00:00</td>\n",
       "      <td>2018-01-01 00:00:00</td>\n",
       "      <td>1</td>\n",
       "      <td>2</td>\n",
       "      <td>-17.507697</td>\n",
       "      <td>NaN</td>\n",
       "      <td>1.0</td>\n",
       "      <td>1.0</td>\n",
       "      <td>0.770394</td>\n",
       "      <td>0.0</td>\n",
       "    </tr>\n",
       "    <tr>\n",
       "      <th>54724</th>\n",
       "      <td>RND_5</td>\n",
       "      <td>2018-01-01 00:00:00</td>\n",
       "      <td>2018-01-01 00:00:00</td>\n",
       "      <td>1</td>\n",
       "      <td>1</td>\n",
       "      <td>NaN</td>\n",
       "      <td>NaN</td>\n",
       "      <td>1.0</td>\n",
       "      <td>0.0</td>\n",
       "      <td>0.000000</td>\n",
       "      <td>0.0</td>\n",
       "    </tr>\n",
       "  </tbody>\n",
       "</table>\n",
       "</div>"
      ],
      "text/plain": [
       "       asset          date_entry           date_exit  side  n_transactions  \\\n",
       "54720  RND_5 2017-12-31 19:00:00 2017-12-31 20:00:00     1               2   \n",
       "54721  RND_3 2017-12-31 20:00:00 2017-12-31 21:00:00     1               2   \n",
       "54722  RND_7 2017-12-31 21:00:00 2017-12-31 23:00:00     1               2   \n",
       "54723  RND_3 2017-12-31 23:00:00 2018-01-01 00:00:00     1               2   \n",
       "54724  RND_5 2018-01-01 00:00:00 2018-01-01 00:00:00     1               1   \n",
       "\n",
       "       wavg_price_entered  wavg_price_exited  qty_entered  qty_exited  \\\n",
       "54720          108.858848         109.338844          1.0         1.0   \n",
       "54721          -16.901115         -17.553376          1.0         1.0   \n",
       "54722         -294.228770        -296.470090          1.0         1.0   \n",
       "54723          -17.507697                NaN          1.0         1.0   \n",
       "54724                 NaN                NaN          1.0         0.0   \n",
       "\n",
       "            pnl  costs  \n",
       "54720  0.479996    0.0  \n",
       "54721 -0.652261    0.0  \n",
       "54722 -2.241320    0.0  \n",
       "54723  0.770394    0.0  \n",
       "54724  0.000000    0.0  "
      ]
     },
     "execution_count": 20,
     "metadata": {},
     "output_type": "execute_result"
    }
   ],
   "source": [
    "df_trades = rpt.trades('Random1000')\n",
    "df_trades.tail()"
   ]
  },
  {
   "cell_type": "code",
   "execution_count": 21,
   "metadata": {},
   "outputs": [
    {
     "data": {
      "text/plain": [
       "<matplotlib.axes._subplots.AxesSubplot at 0x7f38db6d44e0>"
      ]
     },
     "execution_count": 21,
     "metadata": {},
     "output_type": "execute_result"
    },
    {
     "data": {
      "image/png": "[encoded data removed]",
      "text/plain": [
       "<matplotlib.figure.Figure at 0x7f38dacd7fd0>"
      ]
     },
     "metadata": {},
     "output_type": "display_data"
    }
   ],
   "source": [
    "df_equity = rpt.series('equity')\n",
    "df_equity.plot()"
   ]
  },
  {
   "cell_type": "code",
   "execution_count": null,
   "metadata": {},
   "outputs": [],
   "source": []
  }
 ],
 "metadata": {
  "kernelspec": {
   "display_name": "Python 3",
   "language": "python",
   "name": "python3"
  },
  "language_info": {
   "codemirror_mode": {
    "name": "ipython",
    "version": 3
   },
   "file_extension": ".py",
   "mimetype": "text/x-python",
   "name": "python",
   "nbconvert_exporter": "python",
   "pygments_lexer": "ipython3",
   "version": "3.6.0"
  }
 },
 "nbformat": 4,
 "nbformat_minor": 2
}
