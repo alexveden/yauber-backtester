{
 "cells": [
  {
   "cell_type": "code",
   "execution_count": 1,
   "metadata": {},
   "outputs": [],
   "source": [
    "import pandas as pd\n",
    "import numpy as np"
   ]
  },
  {
   "cell_type": "code",
   "execution_count": 2,
   "metadata": {},
   "outputs": [
    {
     "name": "stdout",
     "output_type": "stream",
     "text": [
      "Populating the interactive namespace from numpy and matplotlib\n"
     ]
    }
   ],
   "source": [
    "%pylab inline\n",
    "%load_ext autoreload\n",
    "%autoreload 2"
   ]
  },
  {
   "cell_type": "code",
   "execution_count": 3,
   "metadata": {},
   "outputs": [],
   "source": [
    "from yauber_backtester import Asset, Backtester, Strategy, Account, Report"
   ]
  },
  {
   "cell_type": "markdown",
   "metadata": {},
   "source": [
    "# Create 10 random assets (2010 - 2018 x 60minute intraday)\n"
   ]
  },
  {
   "cell_type": "code",
   "execution_count": 15,
   "metadata": {},
   "outputs": [],
   "source": [
    "def make_rnd_asset(name):\n",
    "    dt_index = pd.date_range('2010-01-01', '2018-01-01', freq='60T')\n",
    "    ser = pd.Series(np.random.normal(size=len(dt_index)), index=dt_index).cumsum()\n",
    "    asset_dict = {\n",
    "            'ticker': f'RND_{name}',\n",
    "            'quotes': pd.DataFrame({\n",
    "                'o': ser,\n",
    "                'h': ser,\n",
    "                'l': ser,\n",
    "                'c': ser,\n",
    "                'exec': ser.shift(-1),\n",
    "            }, index=ser.index),\n",
    "    }\n",
    "    \n",
    "    return Asset(**asset_dict)\n",
    "    "
   ]
  },
  {
   "cell_type": "markdown",
   "metadata": {},
   "source": [
    "# Simple strategy"
   ]
  },
  {
   "cell_type": "markdown",
   "metadata": {},
   "source": [
    "Each day the strategy will randompy pick on of 10 assets in the universe, which has price greater MA200"
   ]
  },
  {
   "cell_type": "code",
   "execution_count": 16,
   "metadata": {},
   "outputs": [],
   "source": [
    "class SimpleStrategy(Strategy):\n",
    "    name = \"SimpleStrategy\"\n",
    "    \n",
    "    def calculate(self, asset: Asset) -> pd.DataFrame:\n",
    "        \"\"\"\n",
    "        Calculates main logic of the strategy, this method must return pd.DataFrame or None (if asset is filtered at all)\n",
    "        This information is used by portfolio composition stage\n",
    "        \"\"\"\n",
    "        \n",
    "        # Check if asset is greater MA200\n",
    "        ohlc = asset.quotes()\n",
    "        \n",
    "        ma200 =  ohlc['c'].rolling(200).mean()\n",
    "        is_gt_ma200 = ohlc['c'] > ma200\n",
    "        \n",
    "        return pd.DataFrame({\n",
    "            'is_gt_ma200': is_gt_ma200,\n",
    "            'ma200': ma200,           \n",
    "        })\n",
    "\n",
    "    def compose_portfolio(self, date: datetime, account: Account, asset_metrics: pd.DataFrame) -> dict:\n",
    "        \"\"\"\n",
    "        Returns a dictionary of portfolio composition at specific 'date'\n",
    "        :param date: analysis date\n",
    "        :param account: actual account at the previous date (see. Account class interface)\n",
    "        :param asset_metrics: composite pd.DataFrame returned by self.calculate() method at 'date'\n",
    "\n",
    "        :return: dictionary of  {asset_class_instance: float_opened_quantity, ... }\n",
    "        Notes:\n",
    "        This method is about managing portfolios, you can implement asset ranking based on asset_metrics, or Money Management strategy.\n",
    "        This method permits opening fractional position sizes, or opening positions with negative capital. You should explicitly manage\n",
    "        all possible issues with portfolio composition and perform all checks in this method.\n",
    "\n",
    "        You can use information returned by asset.info(date) to get all information about the asset. The backtester engine will use this\n",
    "        information to retrieve execution price and costs, as well.\n",
    "        \"\"\"\n",
    "        position = {}        \n",
    "        \n",
    "        # asset_metrics['is_gt_ma200']  is part of pd.DataFrame produced at calculate() method\n",
    "        filtered_assets = asset_metrics['is_gt_ma200'] == 1\n",
    "        \n",
    "        # Randomly pick one of assets that has Close > MA(Close, 200)\n",
    "        rnd_asset_idx = np.random.randint(0, len(filtered_assets.index))\n",
    "        \n",
    "        # Open long position on that asset\n",
    "        position[filtered_assets.index[rnd_asset_idx]] = 1.0\n",
    "          \n",
    "        return position\n",
    "        "
   ]
  },
  {
   "cell_type": "markdown",
   "metadata": {},
   "source": [
    "# Initialize and run backtester"
   ]
  },
  {
   "cell_type": "code",
   "execution_count": 17,
   "metadata": {},
   "outputs": [],
   "source": [
    "strategy = SimpleStrategy()\n",
    "assets10 = [make_rnd_asset(i) for i in range(10)]\n",
    "\n",
    "# Initialize backtester class\n",
    "yabt = Backtester(assets10, \n",
    "                  strategy,\n",
    "                  acc_name='Random1000',\n",
    "                  acc_initial_capital=1000,                  \n",
    "                 )"
   ]
  },
  {
   "cell_type": "markdown",
   "metadata": {},
   "source": [
    "### Backtesting speed\n",
    "10 assets x 70000 data points"
   ]
  },
  {
   "cell_type": "code",
   "execution_count": 20,
   "metadata": {},
   "outputs": [
    {
     "name": "stdout",
     "output_type": "stream",
     "text": [
      "41.4 s ± 136 ms per loop (mean ± std. dev. of 7 runs, 1 loop each)\n"
     ]
    }
   ],
   "source": [
    "%timeit yabt.run()"
   ]
  },
  {
   "cell_type": "markdown",
   "metadata": {},
   "source": [
    "### Run backtester and store results"
   ]
  },
  {
   "cell_type": "code",
   "execution_count": 21,
   "metadata": {},
   "outputs": [],
   "source": [
    "acc = yabt.run()"
   ]
  },
  {
   "cell_type": "markdown",
   "metadata": {},
   "source": [
    "### Aquire account historical series"
   ]
  },
  {
   "cell_type": "code",
   "execution_count": 29,
   "metadata": {},
   "outputs": [
    {
     "data": {
      "text/html": [
       "<div>\n",
       "<style scoped>\n",
       "    .dataframe tbody tr th:only-of-type {\n",
       "        vertical-align: middle;\n",
       "    }\n",
       "\n",
       "    .dataframe tbody tr th {\n",
       "        vertical-align: top;\n",
       "    }\n",
       "\n",
       "    .dataframe thead th {\n",
       "        text-align: right;\n",
       "    }\n",
       "</style>\n",
       "<table border=\"1\" class=\"dataframe\">\n",
       "  <thead>\n",
       "    <tr style=\"text-align: right;\">\n",
       "      <th></th>\n",
       "      <th>capital_invested</th>\n",
       "      <th>costs</th>\n",
       "      <th>equity</th>\n",
       "      <th>margin</th>\n",
       "      <th>pnl</th>\n",
       "    </tr>\n",
       "  </thead>\n",
       "  <tbody>\n",
       "    <tr>\n",
       "      <th>2017-12-31 20:00:00</th>\n",
       "      <td>1000.0</td>\n",
       "      <td>0.0</td>\n",
       "      <td>1220.014112</td>\n",
       "      <td>-18.869492</td>\n",
       "      <td>-1.658596</td>\n",
       "    </tr>\n",
       "    <tr>\n",
       "      <th>2017-12-31 21:00:00</th>\n",
       "      <td>1000.0</td>\n",
       "      <td>0.0</td>\n",
       "      <td>1219.100788</td>\n",
       "      <td>198.181880</td>\n",
       "      <td>-0.913324</td>\n",
       "    </tr>\n",
       "    <tr>\n",
       "      <th>2017-12-31 22:00:00</th>\n",
       "      <td>1000.0</td>\n",
       "      <td>0.0</td>\n",
       "      <td>1220.767677</td>\n",
       "      <td>-64.431826</td>\n",
       "      <td>1.666890</td>\n",
       "    </tr>\n",
       "    <tr>\n",
       "      <th>2017-12-31 23:00:00</th>\n",
       "      <td>1000.0</td>\n",
       "      <td>0.0</td>\n",
       "      <td>1221.013325</td>\n",
       "      <td>-9.923935</td>\n",
       "      <td>0.245648</td>\n",
       "    </tr>\n",
       "    <tr>\n",
       "      <th>2018-01-01 00:00:00</th>\n",
       "      <td>1000.0</td>\n",
       "      <td>0.0</td>\n",
       "      <td>NaN</td>\n",
       "      <td>NaN</td>\n",
       "      <td>NaN</td>\n",
       "    </tr>\n",
       "  </tbody>\n",
       "</table>\n",
       "</div>"
      ],
      "text/plain": [
       "                     capital_invested  costs       equity      margin  \\\n",
       "2017-12-31 20:00:00            1000.0    0.0  1220.014112  -18.869492   \n",
       "2017-12-31 21:00:00            1000.0    0.0  1219.100788  198.181880   \n",
       "2017-12-31 22:00:00            1000.0    0.0  1220.767677  -64.431826   \n",
       "2017-12-31 23:00:00            1000.0    0.0  1221.013325   -9.923935   \n",
       "2018-01-01 00:00:00            1000.0    0.0          NaN         NaN   \n",
       "\n",
       "                          pnl  \n",
       "2017-12-31 20:00:00 -1.658596  \n",
       "2017-12-31 21:00:00 -0.913324  \n",
       "2017-12-31 22:00:00  1.666890  \n",
       "2017-12-31 23:00:00  0.245648  \n",
       "2018-01-01 00:00:00       NaN  "
      ]
     },
     "execution_count": 29,
     "metadata": {},
     "output_type": "execute_result"
    }
   ],
   "source": [
    "acc_df = acc.as_dataframe()\n",
    "acc_df.tail()"
   ]
  },
  {
   "cell_type": "markdown",
   "metadata": {},
   "source": [
    "### Last opened position"
   ]
  },
  {
   "cell_type": "code",
   "execution_count": 30,
   "metadata": {},
   "outputs": [
    {
     "data": {
      "text/plain": [
       "{Asset<RND_8>: RND_8 x 1.0}"
      ]
     },
     "execution_count": 30,
     "metadata": {},
     "output_type": "execute_result"
    }
   ],
   "source": [
    "acc.position()"
   ]
  },
  {
   "cell_type": "markdown",
   "metadata": {},
   "source": [
    "# Backtesting report"
   ]
  },
  {
   "cell_type": "code",
   "execution_count": 31,
   "metadata": {},
   "outputs": [],
   "source": [
    "rpt = Report([acc])"
   ]
  },
  {
   "cell_type": "code",
   "execution_count": 32,
   "metadata": {},
   "outputs": [
    {
     "data": {
      "text/html": [
       "<div>\n",
       "<style scoped>\n",
       "    .dataframe tbody tr th:only-of-type {\n",
       "        vertical-align: middle;\n",
       "    }\n",
       "\n",
       "    .dataframe tbody tr th {\n",
       "        vertical-align: top;\n",
       "    }\n",
       "\n",
       "    .dataframe thead th {\n",
       "        text-align: right;\n",
       "    }\n",
       "</style>\n",
       "<table border=\"1\" class=\"dataframe\">\n",
       "  <thead>\n",
       "    <tr style=\"text-align: right;\">\n",
       "      <th></th>\n",
       "      <th>Random1000</th>\n",
       "    </tr>\n",
       "  </thead>\n",
       "  <tbody>\n",
       "    <tr>\n",
       "      <th>MaxDD</th>\n",
       "      <td>-243.322675</td>\n",
       "    </tr>\n",
       "    <tr>\n",
       "      <th>NetProfit</th>\n",
       "      <td>1221.013325</td>\n",
       "    </tr>\n",
       "    <tr>\n",
       "      <th>NumberOfTrades</th>\n",
       "      <td>63103.000000</td>\n",
       "    </tr>\n",
       "    <tr>\n",
       "      <th>WinRate</th>\n",
       "      <td>0.501513</td>\n",
       "    </tr>\n",
       "  </tbody>\n",
       "</table>\n",
       "</div>"
      ],
      "text/plain": [
       "                  Random1000\n",
       "MaxDD            -243.322675\n",
       "NetProfit        1221.013325\n",
       "NumberOfTrades  63103.000000\n",
       "WinRate             0.501513"
      ]
     },
     "execution_count": 32,
     "metadata": {},
     "output_type": "execute_result"
    }
   ],
   "source": [
    "rpt.stats()"
   ]
  },
  {
   "cell_type": "code",
   "execution_count": 33,
   "metadata": {},
   "outputs": [
    {
     "data": {
      "text/html": [
       "<div>\n",
       "<style scoped>\n",
       "    .dataframe tbody tr th:only-of-type {\n",
       "        vertical-align: middle;\n",
       "    }\n",
       "\n",
       "    .dataframe tbody tr th {\n",
       "        vertical-align: top;\n",
       "    }\n",
       "\n",
       "    .dataframe thead th {\n",
       "        text-align: right;\n",
       "    }\n",
       "</style>\n",
       "<table border=\"1\" class=\"dataframe\">\n",
       "  <thead>\n",
       "    <tr style=\"text-align: right;\">\n",
       "      <th></th>\n",
       "      <th>asset</th>\n",
       "      <th>date_entry</th>\n",
       "      <th>date_exit</th>\n",
       "      <th>side</th>\n",
       "      <th>n_transactions</th>\n",
       "      <th>wavg_price_entered</th>\n",
       "      <th>wavg_price_exited</th>\n",
       "      <th>qty_entered</th>\n",
       "      <th>qty_exited</th>\n",
       "      <th>pnl</th>\n",
       "      <th>costs</th>\n",
       "    </tr>\n",
       "  </thead>\n",
       "  <tbody>\n",
       "    <tr>\n",
       "      <th>63098</th>\n",
       "      <td>RND_4</td>\n",
       "      <td>2017-12-31 20:00:00</td>\n",
       "      <td>2017-12-31 21:00:00</td>\n",
       "      <td>1</td>\n",
       "      <td>2</td>\n",
       "      <td>-18.869492</td>\n",
       "      <td>-19.782817</td>\n",
       "      <td>1.0</td>\n",
       "      <td>1.0</td>\n",
       "      <td>-0.913324</td>\n",
       "      <td>0.0</td>\n",
       "    </tr>\n",
       "    <tr>\n",
       "      <th>63099</th>\n",
       "      <td>RND_1</td>\n",
       "      <td>2017-12-31 21:00:00</td>\n",
       "      <td>2017-12-31 22:00:00</td>\n",
       "      <td>1</td>\n",
       "      <td>2</td>\n",
       "      <td>198.181880</td>\n",
       "      <td>199.848769</td>\n",
       "      <td>1.0</td>\n",
       "      <td>1.0</td>\n",
       "      <td>1.666890</td>\n",
       "      <td>0.0</td>\n",
       "    </tr>\n",
       "    <tr>\n",
       "      <th>63100</th>\n",
       "      <td>RND_9</td>\n",
       "      <td>2017-12-31 22:00:00</td>\n",
       "      <td>2017-12-31 23:00:00</td>\n",
       "      <td>1</td>\n",
       "      <td>2</td>\n",
       "      <td>-64.431826</td>\n",
       "      <td>-64.186179</td>\n",
       "      <td>1.0</td>\n",
       "      <td>1.0</td>\n",
       "      <td>0.245648</td>\n",
       "      <td>0.0</td>\n",
       "    </tr>\n",
       "    <tr>\n",
       "      <th>63101</th>\n",
       "      <td>RND_5</td>\n",
       "      <td>2017-12-31 23:00:00</td>\n",
       "      <td>2018-01-01 00:00:00</td>\n",
       "      <td>1</td>\n",
       "      <td>2</td>\n",
       "      <td>-9.923935</td>\n",
       "      <td>NaN</td>\n",
       "      <td>1.0</td>\n",
       "      <td>1.0</td>\n",
       "      <td>-1.594684</td>\n",
       "      <td>0.0</td>\n",
       "    </tr>\n",
       "    <tr>\n",
       "      <th>63102</th>\n",
       "      <td>RND_8</td>\n",
       "      <td>2018-01-01 00:00:00</td>\n",
       "      <td>2018-01-01 00:00:00</td>\n",
       "      <td>1</td>\n",
       "      <td>1</td>\n",
       "      <td>NaN</td>\n",
       "      <td>NaN</td>\n",
       "      <td>1.0</td>\n",
       "      <td>0.0</td>\n",
       "      <td>0.000000</td>\n",
       "      <td>0.0</td>\n",
       "    </tr>\n",
       "  </tbody>\n",
       "</table>\n",
       "</div>"
      ],
      "text/plain": [
       "       asset          date_entry           date_exit  side  n_transactions  \\\n",
       "63098  RND_4 2017-12-31 20:00:00 2017-12-31 21:00:00     1               2   \n",
       "63099  RND_1 2017-12-31 21:00:00 2017-12-31 22:00:00     1               2   \n",
       "63100  RND_9 2017-12-31 22:00:00 2017-12-31 23:00:00     1               2   \n",
       "63101  RND_5 2017-12-31 23:00:00 2018-01-01 00:00:00     1               2   \n",
       "63102  RND_8 2018-01-01 00:00:00 2018-01-01 00:00:00     1               1   \n",
       "\n",
       "       wavg_price_entered  wavg_price_exited  qty_entered  qty_exited  \\\n",
       "63098          -18.869492         -19.782817          1.0         1.0   \n",
       "63099          198.181880         199.848769          1.0         1.0   \n",
       "63100          -64.431826         -64.186179          1.0         1.0   \n",
       "63101           -9.923935                NaN          1.0         1.0   \n",
       "63102                 NaN                NaN          1.0         0.0   \n",
       "\n",
       "            pnl  costs  \n",
       "63098 -0.913324    0.0  \n",
       "63099  1.666890    0.0  \n",
       "63100  0.245648    0.0  \n",
       "63101 -1.594684    0.0  \n",
       "63102  0.000000    0.0  "
      ]
     },
     "execution_count": 33,
     "metadata": {},
     "output_type": "execute_result"
    }
   ],
   "source": [
    "df_trades = rpt.trades('Random1000')\n",
    "df_trades.tail()"
   ]
  },
  {
   "cell_type": "code",
   "execution_count": 34,
   "metadata": {},
   "outputs": [
    {
     "data": {
      "text/plain": [
       "<matplotlib.axes._subplots.AxesSubplot at 0x7f7dd77e6c88>"
      ]
     },
     "execution_count": 34,
     "metadata": {},
     "output_type": "execute_result"
    },
    {
     "data": {
      "image/png": "[encoded data removed]",
      "text/plain": [
       "<matplotlib.figure.Figure at 0x7f7dd77edb38>"
      ]
     },
     "metadata": {},
     "output_type": "display_data"
    }
   ],
   "source": [
    "df_equity = rpt.series('equity')\n",
    "df_equity.plot()"
   ]
  },
  {
   "cell_type": "code",
   "execution_count": null,
   "metadata": {},
   "outputs": [],
   "source": []
  }
 ],
 "metadata": {
  "kernelspec": {
   "display_name": "Python 3",
   "language": "python",
   "name": "python3"
  },
  "language_info": {
   "codemirror_mode": {
    "name": "ipython",
    "version": 3
   },
   "file_extension": ".py",
   "mimetype": "text/x-python",
   "name": "python",
   "nbconvert_exporter": "python",
   "pygments_lexer": "ipython3",
   "version": "3.6.0"
  }
 },
 "nbformat": 4,
 "nbformat_minor": 2
}
