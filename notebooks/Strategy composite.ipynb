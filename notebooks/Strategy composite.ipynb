{
 "cells": [
  {
   "cell_type": "markdown",
   "metadata": {},
   "source": [
    "# Strategy composite\n",
    "A composite backtesting sample that allow to run a strategy based on equities of other strategies, i.e. creating meta-strategy"
   ]
  },
  {
   "cell_type": "code",
   "execution_count": 1,
   "metadata": {},
   "outputs": [],
   "source": [
    "import pandas as pd\n",
    "import numpy as np"
   ]
  },
  {
   "cell_type": "code",
   "execution_count": 2,
   "metadata": {},
   "outputs": [
    {
     "name": "stdout",
     "output_type": "stream",
     "text": [
      "Populating the interactive namespace from numpy and matplotlib\n"
     ]
    }
   ],
   "source": [
    "%pylab inline\n",
    "%load_ext autoreload\n",
    "%autoreload 2"
   ]
  },
  {
   "cell_type": "code",
   "execution_count": 3,
   "metadata": {},
   "outputs": [],
   "source": [
    "from yauber_backtester import Asset, Backtester, Strategy, Account, Report"
   ]
  },
  {
   "cell_type": "markdown",
   "metadata": {},
   "source": [
    "# Create 100 random assets"
   ]
  },
  {
   "cell_type": "code",
   "execution_count": 4,
   "metadata": {},
   "outputs": [],
   "source": [
    "def make_rnd_asset(name):\n",
    "    dt_index = pd.date_range('2010-01-01', '2018-01-01')\n",
    "    ser = pd.Series(np.random.normal(size=len(dt_index)), index=dt_index).cumsum()\n",
    "    asset_dict = {\n",
    "            'ticker': f'RND_{name}',\n",
    "            'quotes': pd.DataFrame({\n",
    "                'o': ser,\n",
    "                'h': ser,\n",
    "                'l': ser,\n",
    "                'c': ser,\n",
    "                'exec': ser.shift(-1),\n",
    "            }, index=ser.index),\n",
    "    }\n",
    "    \n",
    "    return Asset(**asset_dict)\n",
    "    "
   ]
  },
  {
   "cell_type": "markdown",
   "metadata": {},
   "source": [
    "# Simple strategy"
   ]
  },
  {
   "cell_type": "markdown",
   "metadata": {},
   "source": [
    "Each day the strategy will randompy pick on of 100 assets in the universe, which has price greater MA200"
   ]
  },
  {
   "cell_type": "code",
   "execution_count": 5,
   "metadata": {},
   "outputs": [],
   "source": [
    "class SimpleStrategy(Strategy):\n",
    "    name = \"SimpleStrategy\"\n",
    "    \n",
    "    def calculate(self, asset: Asset) -> pd.DataFrame:\n",
    "        \"\"\"\n",
    "        Calculates main logic of the strategy, this method must return pd.DataFrame or None (if asset is filtered at all)\n",
    "        This information is used by portfolio composition stage\n",
    "        \"\"\"\n",
    "        \n",
    "        # Check if asset is greater MA200\n",
    "        ohlc = asset.quotes()\n",
    "                        \n",
    "        ma200 =  ohlc['c'].rolling(200).mean()\n",
    "        \n",
    "        # Checking strategy params\n",
    "        is_long = self.params.get('long', True)\n",
    "        if is_long:\n",
    "            is_gt_ma200 = ohlc['c'] > ma200\n",
    "        else:\n",
    "            is_gt_ma200 = ohlc['c'] < ma200\n",
    "        \n",
    "        return pd.DataFrame({\n",
    "            'is_gt_ma200': is_gt_ma200,\n",
    "            'ma200': ma200,           \n",
    "        })\n",
    "\n",
    "    def compose_portfolio(self, date: datetime, account: Account, asset_metrics: pd.DataFrame) -> dict:\n",
    "        \"\"\"\n",
    "        Returns a dictionary of portfolio composition at specific 'date'\n",
    "        :param date: analysis date\n",
    "        :param account: actual account at the previous date (see. Account class interface)\n",
    "        :param asset_metrics: composite pd.DataFrame returned by self.calculate() method at 'date'\n",
    "\n",
    "        :return: dictionary of  {asset_class_instance: float_opened_quantity, ... }\n",
    "        Notes:\n",
    "        This method is about managing portfolios, you can implement asset ranking based on asset_metrics, or Money Management strategy.\n",
    "        This method permits opening fractional position sizes, or opening positions with negative capital. You should explicitly manage\n",
    "        all possible issues with portfolio composition and perform all checks in this method.\n",
    "\n",
    "        You can use information returned by asset.info(date) to get all information about the asset. The backtester engine will use this\n",
    "        information to retrieve execution price and costs, as well.\n",
    "        \"\"\"\n",
    "        position = {}        \n",
    "        \n",
    "        # asset_metrics['is_gt_ma200']  is part of pd.DataFrame produced at calculate() method\n",
    "        filtered_assets = asset_metrics['is_gt_ma200'] == 1\n",
    "        \n",
    "        # Randomly pick one of assets that has Close > MA(Close, 200)\n",
    "        rnd_asset_idx = np.random.randint(0, len(filtered_assets.index))\n",
    "        \n",
    "        # Open long position on that asset\n",
    "        position[filtered_assets.index[rnd_asset_idx]] = 1.0 if self.params.get('long', True) else -1.0\n",
    "          \n",
    "        return position\n",
    "        "
   ]
  },
  {
   "cell_type": "markdown",
   "metadata": {},
   "source": [
    "# Initialize and run backtester"
   ]
  },
  {
   "cell_type": "code",
   "execution_count": 6,
   "metadata": {},
   "outputs": [],
   "source": [
    "strategy_long = SimpleStrategy(**{\n",
    "    'params': {\n",
    "        'long': True\n",
    "    }\n",
    "})\n",
    "\n",
    "strategy_short = SimpleStrategy(**{\n",
    "    'params': {\n",
    "        'long': False\n",
    "    }\n",
    "})\n",
    "\n",
    "\n",
    "assets100 = [make_rnd_asset(i) for i in range(100)]\n",
    "\n",
    "# Initialize backtester class\n",
    "acc_long = Backtester(assets100, \n",
    "                  strategy_long,\n",
    "                  acc_name='Random100Long',\n",
    "                  acc_initial_capital=1000,                  \n",
    "                 ).run()\n",
    "\n",
    "acc_short = Backtester(assets100, \n",
    "                  strategy_short,\n",
    "                  acc_name='Random100Short',\n",
    "                  acc_initial_capital=1000,                  \n",
    "                 ).run()"
   ]
  },
  {
   "cell_type": "markdown",
   "metadata": {},
   "source": [
    "### Last opened position"
   ]
  },
  {
   "cell_type": "code",
   "execution_count": 7,
   "metadata": {},
   "outputs": [
    {
     "data": {
      "text/plain": [
       "{Asset<RND_96>: RND_96 x 1.0}"
      ]
     },
     "execution_count": 7,
     "metadata": {},
     "output_type": "execute_result"
    }
   ],
   "source": [
    "acc_long.position()"
   ]
  },
  {
   "cell_type": "code",
   "execution_count": 8,
   "metadata": {},
   "outputs": [
    {
     "data": {
      "text/plain": [
       "{Asset<RND_75>: RND_75 x -1.0}"
      ]
     },
     "execution_count": 8,
     "metadata": {},
     "output_type": "execute_result"
    }
   ],
   "source": [
    "acc_short.position()"
   ]
  },
  {
   "cell_type": "markdown",
   "metadata": {},
   "source": [
    "# Backtesting report"
   ]
  },
  {
   "cell_type": "code",
   "execution_count": 9,
   "metadata": {},
   "outputs": [],
   "source": [
    "rpt = Report([acc_long, acc_short])"
   ]
  },
  {
   "cell_type": "code",
   "execution_count": 10,
   "metadata": {},
   "outputs": [
    {
     "data": {
      "text/html": [
       "<div>\n",
       "<style scoped>\n",
       "    .dataframe tbody tr th:only-of-type {\n",
       "        vertical-align: middle;\n",
       "    }\n",
       "\n",
       "    .dataframe tbody tr th {\n",
       "        vertical-align: top;\n",
       "    }\n",
       "\n",
       "    .dataframe thead th {\n",
       "        text-align: right;\n",
       "    }\n",
       "</style>\n",
       "<table border=\"1\" class=\"dataframe\">\n",
       "  <thead>\n",
       "    <tr style=\"text-align: right;\">\n",
       "      <th></th>\n",
       "      <th>Random100Long</th>\n",
       "      <th>Random100Short</th>\n",
       "    </tr>\n",
       "  </thead>\n",
       "  <tbody>\n",
       "    <tr>\n",
       "      <th>MaxDD</th>\n",
       "      <td>-124.964148</td>\n",
       "      <td>-64.751763</td>\n",
       "    </tr>\n",
       "    <tr>\n",
       "      <th>NetProfit</th>\n",
       "      <td>899.714928</td>\n",
       "      <td>1007.518362</td>\n",
       "    </tr>\n",
       "    <tr>\n",
       "      <th>NumberOfTrades</th>\n",
       "      <td>2892.000000</td>\n",
       "      <td>100.000000</td>\n",
       "    </tr>\n",
       "    <tr>\n",
       "      <th>WinRate</th>\n",
       "      <td>0.483057</td>\n",
       "      <td>0.560000</td>\n",
       "    </tr>\n",
       "  </tbody>\n",
       "</table>\n",
       "</div>"
      ],
      "text/plain": [
       "                Random100Long  Random100Short\n",
       "MaxDD             -124.964148      -64.751763\n",
       "NetProfit          899.714928     1007.518362\n",
       "NumberOfTrades    2892.000000      100.000000\n",
       "WinRate              0.483057        0.560000"
      ]
     },
     "execution_count": 10,
     "metadata": {},
     "output_type": "execute_result"
    }
   ],
   "source": [
    "rpt.stats()"
   ]
  },
  {
   "cell_type": "markdown",
   "metadata": {},
   "source": [
    "### Long trades"
   ]
  },
  {
   "cell_type": "code",
   "execution_count": 11,
   "metadata": {},
   "outputs": [
    {
     "data": {
      "text/html": [
       "<div>\n",
       "<style scoped>\n",
       "    .dataframe tbody tr th:only-of-type {\n",
       "        vertical-align: middle;\n",
       "    }\n",
       "\n",
       "    .dataframe tbody tr th {\n",
       "        vertical-align: top;\n",
       "    }\n",
       "\n",
       "    .dataframe thead th {\n",
       "        text-align: right;\n",
       "    }\n",
       "</style>\n",
       "<table border=\"1\" class=\"dataframe\">\n",
       "  <thead>\n",
       "    <tr style=\"text-align: right;\">\n",
       "      <th></th>\n",
       "      <th>asset</th>\n",
       "      <th>date_entry</th>\n",
       "      <th>date_exit</th>\n",
       "      <th>side</th>\n",
       "      <th>n_transactions</th>\n",
       "      <th>wavg_price_entered</th>\n",
       "      <th>wavg_price_exited</th>\n",
       "      <th>qty_entered</th>\n",
       "      <th>qty_exited</th>\n",
       "      <th>pnl</th>\n",
       "      <th>costs</th>\n",
       "    </tr>\n",
       "  </thead>\n",
       "  <tbody>\n",
       "    <tr>\n",
       "      <th>2887</th>\n",
       "      <td>RND_68</td>\n",
       "      <td>2017-12-28</td>\n",
       "      <td>2017-12-29</td>\n",
       "      <td>1</td>\n",
       "      <td>2</td>\n",
       "      <td>-58.913184</td>\n",
       "      <td>-59.068481</td>\n",
       "      <td>1.0</td>\n",
       "      <td>1.0</td>\n",
       "      <td>-0.155297</td>\n",
       "      <td>0.0</td>\n",
       "    </tr>\n",
       "    <tr>\n",
       "      <th>2888</th>\n",
       "      <td>RND_29</td>\n",
       "      <td>2017-12-29</td>\n",
       "      <td>2017-12-30</td>\n",
       "      <td>1</td>\n",
       "      <td>2</td>\n",
       "      <td>23.291192</td>\n",
       "      <td>23.613710</td>\n",
       "      <td>1.0</td>\n",
       "      <td>1.0</td>\n",
       "      <td>0.322518</td>\n",
       "      <td>0.0</td>\n",
       "    </tr>\n",
       "    <tr>\n",
       "      <th>2889</th>\n",
       "      <td>RND_98</td>\n",
       "      <td>2017-12-30</td>\n",
       "      <td>2017-12-31</td>\n",
       "      <td>1</td>\n",
       "      <td>2</td>\n",
       "      <td>178.623353</td>\n",
       "      <td>179.025723</td>\n",
       "      <td>1.0</td>\n",
       "      <td>1.0</td>\n",
       "      <td>0.402370</td>\n",
       "      <td>0.0</td>\n",
       "    </tr>\n",
       "    <tr>\n",
       "      <th>2890</th>\n",
       "      <td>RND_33</td>\n",
       "      <td>2017-12-31</td>\n",
       "      <td>2018-01-01</td>\n",
       "      <td>1</td>\n",
       "      <td>2</td>\n",
       "      <td>-28.764055</td>\n",
       "      <td>NaN</td>\n",
       "      <td>1.0</td>\n",
       "      <td>1.0</td>\n",
       "      <td>-2.773567</td>\n",
       "      <td>0.0</td>\n",
       "    </tr>\n",
       "    <tr>\n",
       "      <th>2891</th>\n",
       "      <td>RND_96</td>\n",
       "      <td>2018-01-01</td>\n",
       "      <td>2018-01-01</td>\n",
       "      <td>1</td>\n",
       "      <td>1</td>\n",
       "      <td>NaN</td>\n",
       "      <td>NaN</td>\n",
       "      <td>1.0</td>\n",
       "      <td>0.0</td>\n",
       "      <td>0.000000</td>\n",
       "      <td>0.0</td>\n",
       "    </tr>\n",
       "  </tbody>\n",
       "</table>\n",
       "</div>"
      ],
      "text/plain": [
       "       asset date_entry  date_exit  side  n_transactions  wavg_price_entered  \\\n",
       "2887  RND_68 2017-12-28 2017-12-29     1               2          -58.913184   \n",
       "2888  RND_29 2017-12-29 2017-12-30     1               2           23.291192   \n",
       "2889  RND_98 2017-12-30 2017-12-31     1               2          178.623353   \n",
       "2890  RND_33 2017-12-31 2018-01-01     1               2          -28.764055   \n",
       "2891  RND_96 2018-01-01 2018-01-01     1               1                 NaN   \n",
       "\n",
       "      wavg_price_exited  qty_entered  qty_exited       pnl  costs  \n",
       "2887         -59.068481          1.0         1.0 -0.155297    0.0  \n",
       "2888          23.613710          1.0         1.0  0.322518    0.0  \n",
       "2889         179.025723          1.0         1.0  0.402370    0.0  \n",
       "2890                NaN          1.0         1.0 -2.773567    0.0  \n",
       "2891                NaN          1.0         0.0  0.000000    0.0  "
      ]
     },
     "execution_count": 11,
     "metadata": {},
     "output_type": "execute_result"
    }
   ],
   "source": [
    "df_trades = rpt.trades('Random100Long')\n",
    "df_trades.tail()"
   ]
  },
  {
   "cell_type": "markdown",
   "metadata": {},
   "source": [
    "### Short trades"
   ]
  },
  {
   "cell_type": "code",
   "execution_count": 12,
   "metadata": {},
   "outputs": [
    {
     "data": {
      "text/html": [
       "<div>\n",
       "<style scoped>\n",
       "    .dataframe tbody tr th:only-of-type {\n",
       "        vertical-align: middle;\n",
       "    }\n",
       "\n",
       "    .dataframe tbody tr th {\n",
       "        vertical-align: top;\n",
       "    }\n",
       "\n",
       "    .dataframe thead th {\n",
       "        text-align: right;\n",
       "    }\n",
       "</style>\n",
       "<table border=\"1\" class=\"dataframe\">\n",
       "  <thead>\n",
       "    <tr style=\"text-align: right;\">\n",
       "      <th></th>\n",
       "      <th>asset</th>\n",
       "      <th>date_entry</th>\n",
       "      <th>date_exit</th>\n",
       "      <th>side</th>\n",
       "      <th>n_transactions</th>\n",
       "      <th>wavg_price_entered</th>\n",
       "      <th>wavg_price_exited</th>\n",
       "      <th>qty_entered</th>\n",
       "      <th>qty_exited</th>\n",
       "      <th>pnl</th>\n",
       "      <th>costs</th>\n",
       "    </tr>\n",
       "  </thead>\n",
       "  <tbody>\n",
       "    <tr>\n",
       "      <th>95</th>\n",
       "      <td>RND_37</td>\n",
       "      <td>2010-10-18</td>\n",
       "      <td>2017-11-08</td>\n",
       "      <td>-1</td>\n",
       "      <td>60</td>\n",
       "      <td>-32.333402</td>\n",
       "      <td>-32.347523</td>\n",
       "      <td>30.0</td>\n",
       "      <td>30.0</td>\n",
       "      <td>0.423617</td>\n",
       "      <td>0.0</td>\n",
       "    </tr>\n",
       "    <tr>\n",
       "      <th>96</th>\n",
       "      <td>RND_12</td>\n",
       "      <td>2010-10-21</td>\n",
       "      <td>2017-10-14</td>\n",
       "      <td>-1</td>\n",
       "      <td>58</td>\n",
       "      <td>57.688567</td>\n",
       "      <td>57.620656</td>\n",
       "      <td>29.0</td>\n",
       "      <td>29.0</td>\n",
       "      <td>1.969401</td>\n",
       "      <td>0.0</td>\n",
       "    </tr>\n",
       "    <tr>\n",
       "      <th>97</th>\n",
       "      <td>RND_86</td>\n",
       "      <td>2010-11-27</td>\n",
       "      <td>2017-10-21</td>\n",
       "      <td>-1</td>\n",
       "      <td>52</td>\n",
       "      <td>49.973148</td>\n",
       "      <td>49.816562</td>\n",
       "      <td>26.0</td>\n",
       "      <td>26.0</td>\n",
       "      <td>4.071255</td>\n",
       "      <td>0.0</td>\n",
       "    </tr>\n",
       "    <tr>\n",
       "      <th>98</th>\n",
       "      <td>RND_55</td>\n",
       "      <td>2011-02-11</td>\n",
       "      <td>2017-10-08</td>\n",
       "      <td>-1</td>\n",
       "      <td>70</td>\n",
       "      <td>-91.772340</td>\n",
       "      <td>-91.606691</td>\n",
       "      <td>35.0</td>\n",
       "      <td>35.0</td>\n",
       "      <td>-5.797699</td>\n",
       "      <td>0.0</td>\n",
       "    </tr>\n",
       "    <tr>\n",
       "      <th>99</th>\n",
       "      <td>RND_74</td>\n",
       "      <td>2011-03-26</td>\n",
       "      <td>2017-11-05</td>\n",
       "      <td>-1</td>\n",
       "      <td>48</td>\n",
       "      <td>-26.196452</td>\n",
       "      <td>-26.467776</td>\n",
       "      <td>24.0</td>\n",
       "      <td>24.0</td>\n",
       "      <td>6.511783</td>\n",
       "      <td>0.0</td>\n",
       "    </tr>\n",
       "  </tbody>\n",
       "</table>\n",
       "</div>"
      ],
      "text/plain": [
       "     asset date_entry  date_exit  side  n_transactions  wavg_price_entered  \\\n",
       "95  RND_37 2010-10-18 2017-11-08    -1              60          -32.333402   \n",
       "96  RND_12 2010-10-21 2017-10-14    -1              58           57.688567   \n",
       "97  RND_86 2010-11-27 2017-10-21    -1              52           49.973148   \n",
       "98  RND_55 2011-02-11 2017-10-08    -1              70          -91.772340   \n",
       "99  RND_74 2011-03-26 2017-11-05    -1              48          -26.196452   \n",
       "\n",
       "    wavg_price_exited  qty_entered  qty_exited       pnl  costs  \n",
       "95         -32.347523         30.0        30.0  0.423617    0.0  \n",
       "96          57.620656         29.0        29.0  1.969401    0.0  \n",
       "97          49.816562         26.0        26.0  4.071255    0.0  \n",
       "98         -91.606691         35.0        35.0 -5.797699    0.0  \n",
       "99         -26.467776         24.0        24.0  6.511783    0.0  "
      ]
     },
     "execution_count": 12,
     "metadata": {},
     "output_type": "execute_result"
    }
   ],
   "source": [
    "df_trades = rpt.trades('Random100Short')\n",
    "df_trades.tail()"
   ]
  },
  {
   "cell_type": "code",
   "execution_count": 13,
   "metadata": {},
   "outputs": [
    {
     "data": {
      "text/plain": [
       "<matplotlib.axes._subplots.AxesSubplot at 0x7f57e261c0b8>"
      ]
     },
     "execution_count": 13,
     "metadata": {},
     "output_type": "execute_result"
    },
    {
     "data": {
      "image/png": "[encoded data removed]",
      "text/plain": [
       "<matplotlib.figure.Figure at 0x7f57e261c898>"
      ]
     },
     "metadata": {},
     "output_type": "display_data"
    }
   ],
   "source": [
    "df_equity = rpt.series('equity')\n",
    "df_equity.plot()"
   ]
  },
  {
   "cell_type": "markdown",
   "metadata": {},
   "source": [
    "# Creating metastrategy\n",
    "Create metastartegy that uses 'Random100Long' and 'Random100Short' accounts as underlying assets and rebalance the portfolio using these assets"
   ]
  },
  {
   "cell_type": "code",
   "execution_count": 40,
   "metadata": {},
   "outputs": [],
   "source": [
    "#\n",
    "# Important: beware of shorting synthetic assets, because costs can be incorrectly estimated \n",
    "#\n",
    "\n",
    "class SimpleMetaStrategy(Strategy):\n",
    "    name = \"SimpleMetaStrategy\"\n",
    "    \n",
    "    def calculate(self, asset: Asset) -> pd.DataFrame:\n",
    "        \"\"\"\n",
    "        Calculates main logic of the strategy, this method must return pd.DataFrame or None (if asset is filtered at all)\n",
    "        This information is used by portfolio composition stage\n",
    "        \"\"\"\n",
    "        \n",
    "        # Check if asset is greater MA200\n",
    "        ohlc = asset.quotes()\n",
    "                        \n",
    "        ma200 =  ohlc['c'].rolling(200).mean()\n",
    "        \n",
    "        is_gt_ma200 = ohlc['c'] > ma200\n",
    "        \n",
    "        return pd.DataFrame({\n",
    "            'is_gt_ma200': is_gt_ma200,\n",
    "            'ma200': ma200,           \n",
    "        })\n",
    "\n",
    "    def compose_portfolio(self, date: datetime, account: Account, asset_metrics: pd.DataFrame) -> dict:\n",
    "        \"\"\"\n",
    "        Returns a dictionary of portfolio composition at specific 'date'\n",
    "        :param date: analysis date\n",
    "        :param account: actual account at the previous date (see. Account class interface)\n",
    "        :param asset_metrics: composite pd.DataFrame returned by self.calculate() method at 'date'\n",
    "\n",
    "        :return: dictionary of  {asset_class_instance: float_opened_quantity, ... }\n",
    "        Notes:\n",
    "        This method is about managing portfolios, you can implement asset ranking based on asset_metrics, or Money Management strategy.\n",
    "        This method permits opening fractional position sizes, or opening positions with negative capital. You should explicitly manage\n",
    "        all possible issues with portfolio composition and perform all checks in this method.\n",
    "\n",
    "        You can use information returned by asset.info(date) to get all information about the asset. The backtester engine will use this\n",
    "        information to retrieve execution price and costs, as well.\n",
    "        \"\"\"\n",
    "        position = {}        \n",
    "        \n",
    "        # asset_metrics['is_gt_ma200']  is part of pd.DataFrame produced at calculate() method\n",
    "        filtered_assets = asset_metrics[asset_metrics['is_gt_ma200'] == 1]\n",
    "        \n",
    "        for asset in filtered_assets.index:            \n",
    "            # Open long position on synthetic asset if its eqity is higher than 200 MA\n",
    "\n",
    "            #\n",
    "            # Important: beware of shorting synthetic assets, because costs can be incorrectly estimated \n",
    "            #\n",
    "            position[asset] = 1.0\n",
    "          \n",
    "        return position"
   ]
  },
  {
   "cell_type": "code",
   "execution_count": 41,
   "metadata": {},
   "outputs": [],
   "source": [
    "_acc_long_asset = acc_long.as_asset()\n",
    "_acc_short_asset = acc_short.as_asset()\n",
    "\n",
    "# Initialize backtester class for meta\n",
    "metastrategy = SimpleMetaStrategy()\n",
    "metaassets = [_acc_long_asset, _acc_short_asset]\n",
    "\n",
    "meta_acc = Backtester(metaassets, \n",
    "                  metastrategy,\n",
    "                  acc_initial_capital=1000,                  \n",
    "                 ).run()"
   ]
  },
  {
   "cell_type": "markdown",
   "metadata": {},
   "source": [
    "## Meta account position"
   ]
  },
  {
   "cell_type": "code",
   "execution_count": 42,
   "metadata": {},
   "outputs": [
    {
     "data": {
      "text/plain": [
       "{}"
      ]
     },
     "execution_count": 42,
     "metadata": {},
     "output_type": "execute_result"
    }
   ],
   "source": [
    "meta_acc.position()"
   ]
  },
  {
   "cell_type": "markdown",
   "metadata": {},
   "source": [
    "# Meta backtesting report"
   ]
  },
  {
   "cell_type": "code",
   "execution_count": 43,
   "metadata": {},
   "outputs": [],
   "source": [
    "rpt_meta = Report([meta_acc])"
   ]
  },
  {
   "cell_type": "markdown",
   "metadata": {},
   "source": [
    "## Composite stats"
   ]
  },
  {
   "cell_type": "code",
   "execution_count": 44,
   "metadata": {},
   "outputs": [
    {
     "data": {
      "text/html": [
       "<div>\n",
       "<style scoped>\n",
       "    .dataframe tbody tr th:only-of-type {\n",
       "        vertical-align: middle;\n",
       "    }\n",
       "\n",
       "    .dataframe tbody tr th {\n",
       "        vertical-align: top;\n",
       "    }\n",
       "\n",
       "    .dataframe thead th {\n",
       "        text-align: right;\n",
       "    }\n",
       "</style>\n",
       "<table border=\"1\" class=\"dataframe\">\n",
       "  <thead>\n",
       "    <tr style=\"text-align: right;\">\n",
       "      <th></th>\n",
       "      <th>Strategy&lt;SimpleMetaStrategy&gt;</th>\n",
       "    </tr>\n",
       "  </thead>\n",
       "  <tbody>\n",
       "    <tr>\n",
       "      <th>MaxDD</th>\n",
       "      <td>-53.856512</td>\n",
       "    </tr>\n",
       "    <tr>\n",
       "      <th>NetProfit</th>\n",
       "      <td>971.795015</td>\n",
       "    </tr>\n",
       "    <tr>\n",
       "      <th>NumberOfTrades</th>\n",
       "      <td>78.000000</td>\n",
       "    </tr>\n",
       "    <tr>\n",
       "      <th>WinRate</th>\n",
       "      <td>0.474359</td>\n",
       "    </tr>\n",
       "  </tbody>\n",
       "</table>\n",
       "</div>"
      ],
      "text/plain": [
       "                Strategy<SimpleMetaStrategy>\n",
       "MaxDD                             -53.856512\n",
       "NetProfit                         971.795015\n",
       "NumberOfTrades                     78.000000\n",
       "WinRate                             0.474359"
      ]
     },
     "execution_count": 44,
     "metadata": {},
     "output_type": "execute_result"
    }
   ],
   "source": [
    "rpt_meta.stats()"
   ]
  },
  {
   "cell_type": "markdown",
   "metadata": {},
   "source": [
    "## Composite trades"
   ]
  },
  {
   "cell_type": "code",
   "execution_count": 48,
   "metadata": {},
   "outputs": [
    {
     "data": {
      "text/html": [
       "<div>\n",
       "<style scoped>\n",
       "    .dataframe tbody tr th:only-of-type {\n",
       "        vertical-align: middle;\n",
       "    }\n",
       "\n",
       "    .dataframe tbody tr th {\n",
       "        vertical-align: top;\n",
       "    }\n",
       "\n",
       "    .dataframe thead th {\n",
       "        text-align: right;\n",
       "    }\n",
       "</style>\n",
       "<table border=\"1\" class=\"dataframe\">\n",
       "  <thead>\n",
       "    <tr style=\"text-align: right;\">\n",
       "      <th></th>\n",
       "      <th>asset</th>\n",
       "      <th>date_entry</th>\n",
       "      <th>date_exit</th>\n",
       "      <th>side</th>\n",
       "      <th>n_transactions</th>\n",
       "      <th>wavg_price_entered</th>\n",
       "      <th>wavg_price_exited</th>\n",
       "      <th>qty_entered</th>\n",
       "      <th>qty_exited</th>\n",
       "      <th>pnl</th>\n",
       "      <th>costs</th>\n",
       "    </tr>\n",
       "  </thead>\n",
       "  <tbody>\n",
       "    <tr>\n",
       "      <th>73</th>\n",
       "      <td>Random100Long</td>\n",
       "      <td>2017-06-05</td>\n",
       "      <td>2017-12-15</td>\n",
       "      <td>1</td>\n",
       "      <td>2</td>\n",
       "      <td>918.808693</td>\n",
       "      <td>900.035393</td>\n",
       "      <td>1.0</td>\n",
       "      <td>1.0</td>\n",
       "      <td>-18.773299</td>\n",
       "      <td>-0.0</td>\n",
       "    </tr>\n",
       "    <tr>\n",
       "      <th>74</th>\n",
       "      <td>Random100Short</td>\n",
       "      <td>2017-12-06</td>\n",
       "      <td>2017-12-16</td>\n",
       "      <td>1</td>\n",
       "      <td>2</td>\n",
       "      <td>1009.922961</td>\n",
       "      <td>1007.818860</td>\n",
       "      <td>1.0</td>\n",
       "      <td>1.0</td>\n",
       "      <td>-2.104101</td>\n",
       "      <td>-0.0</td>\n",
       "    </tr>\n",
       "    <tr>\n",
       "      <th>75</th>\n",
       "      <td>Random100Short</td>\n",
       "      <td>2017-12-18</td>\n",
       "      <td>2017-12-22</td>\n",
       "      <td>1</td>\n",
       "      <td>2</td>\n",
       "      <td>1006.771975</td>\n",
       "      <td>1005.511059</td>\n",
       "      <td>1.0</td>\n",
       "      <td>1.0</td>\n",
       "      <td>-1.260916</td>\n",
       "      <td>-0.0</td>\n",
       "    </tr>\n",
       "    <tr>\n",
       "      <th>76</th>\n",
       "      <td>Random100Short</td>\n",
       "      <td>2017-12-27</td>\n",
       "      <td>2017-12-28</td>\n",
       "      <td>1</td>\n",
       "      <td>2</td>\n",
       "      <td>1003.714105</td>\n",
       "      <td>1003.050679</td>\n",
       "      <td>1.0</td>\n",
       "      <td>1.0</td>\n",
       "      <td>-0.663426</td>\n",
       "      <td>-0.0</td>\n",
       "    </tr>\n",
       "    <tr>\n",
       "      <th>77</th>\n",
       "      <td>Random100Short</td>\n",
       "      <td>2017-12-30</td>\n",
       "      <td>2017-12-31</td>\n",
       "      <td>1</td>\n",
       "      <td>2</td>\n",
       "      <td>1005.572202</td>\n",
       "      <td>1007.518362</td>\n",
       "      <td>1.0</td>\n",
       "      <td>1.0</td>\n",
       "      <td>1.946160</td>\n",
       "      <td>-0.0</td>\n",
       "    </tr>\n",
       "  </tbody>\n",
       "</table>\n",
       "</div>"
      ],
      "text/plain": [
       "             asset date_entry  date_exit  side  n_transactions  \\\n",
       "73   Random100Long 2017-06-05 2017-12-15     1               2   \n",
       "74  Random100Short 2017-12-06 2017-12-16     1               2   \n",
       "75  Random100Short 2017-12-18 2017-12-22     1               2   \n",
       "76  Random100Short 2017-12-27 2017-12-28     1               2   \n",
       "77  Random100Short 2017-12-30 2017-12-31     1               2   \n",
       "\n",
       "    wavg_price_entered  wavg_price_exited  qty_entered  qty_exited        pnl  \\\n",
       "73          918.808693         900.035393          1.0         1.0 -18.773299   \n",
       "74         1009.922961        1007.818860          1.0         1.0  -2.104101   \n",
       "75         1006.771975        1005.511059          1.0         1.0  -1.260916   \n",
       "76         1003.714105        1003.050679          1.0         1.0  -0.663426   \n",
       "77         1005.572202        1007.518362          1.0         1.0   1.946160   \n",
       "\n",
       "    costs  \n",
       "73   -0.0  \n",
       "74   -0.0  \n",
       "75   -0.0  \n",
       "76   -0.0  \n",
       "77   -0.0  "
      ]
     },
     "execution_count": 48,
     "metadata": {},
     "output_type": "execute_result"
    }
   ],
   "source": [
    "rpt_meta.trades('Strategy<SimpleMetaStrategy>').tail()"
   ]
  },
  {
   "cell_type": "code",
   "execution_count": 46,
   "metadata": {},
   "outputs": [],
   "source": [
    "## Composite equity"
   ]
  },
  {
   "cell_type": "code",
   "execution_count": 47,
   "metadata": {},
   "outputs": [
    {
     "data": {
      "text/plain": [
       "<matplotlib.axes._subplots.AxesSubplot at 0x7f57d7f34048>"
      ]
     },
     "execution_count": 47,
     "metadata": {},
     "output_type": "execute_result"
    },
    {
     "data": {
      "image/png": "[encoded data removed]",
      "text/plain": [
       "<matplotlib.figure.Figure at 0x7f57d7f94198>"
      ]
     },
     "metadata": {},
     "output_type": "display_data"
    }
   ],
   "source": [
    "rpt_meta.series('equity').plot()"
   ]
  },
  {
   "cell_type": "code",
   "execution_count": null,
   "metadata": {},
   "outputs": [],
   "source": []
  }
 ],
 "metadata": {
  "kernelspec": {
   "display_name": "Python 3",
   "language": "python",
   "name": "python3"
  },
  "language_info": {
   "codemirror_mode": {
    "name": "ipython",
    "version": 3
   },
   "file_extension": ".py",
   "mimetype": "text/x-python",
   "name": "python",
   "nbconvert_exporter": "python",
   "pygments_lexer": "ipython3",
   "version": "3.6.0"
  }
 },
 "nbformat": 4,
 "nbformat_minor": 2
}
