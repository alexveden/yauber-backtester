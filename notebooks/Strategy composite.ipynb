{
 "cells": [
  {
   "cell_type": "markdown",
   "metadata": {},
   "source": [
    "# Strategy composite\n",
    "A composite backtesting sample that allow to run a strategy based on equities of other strategies, i.e. creating meta-strategy"
   ]
  },
  {
   "cell_type": "code",
   "execution_count": 2,
   "metadata": {},
   "outputs": [],
   "source": [
    "import pandas as pd\n",
    "import numpy as np"
   ]
  },
  {
   "cell_type": "code",
   "execution_count": 3,
   "metadata": {},
   "outputs": [
    {
     "name": "stdout",
     "output_type": "stream",
     "text": [
      "Populating the interactive namespace from numpy and matplotlib\n"
     ]
    }
   ],
   "source": [
    "%pylab inline\n",
    "%load_ext autoreload\n",
    "%autoreload 2"
   ]
  },
  {
   "cell_type": "code",
   "execution_count": 5,
   "metadata": {},
   "outputs": [],
   "source": [
    "from yauber_backtester import Asset, Backtester, Strategy, Account, Report, MFrame"
   ]
  },
  {
   "cell_type": "markdown",
   "metadata": {},
   "source": [
    "# Create 100 random assets"
   ]
  },
  {
   "cell_type": "code",
   "execution_count": 6,
   "metadata": {},
   "outputs": [],
   "source": [
    "def make_rnd_asset(name):\n",
    "    dt_index = pd.date_range('2010-01-01', '2018-01-01')\n",
    "    ser = pd.Series(np.random.normal(size=len(dt_index)), index=dt_index).cumsum()\n",
    "    asset_dict = {\n",
    "            'ticker': f'RND_{name}',\n",
    "            'quotes': pd.DataFrame({\n",
    "                'o': ser,\n",
    "                'h': ser,\n",
    "                'l': ser,\n",
    "                'c': ser,\n",
    "                'exec': ser.shift(-1),\n",
    "            }, index=ser.index),\n",
    "    }\n",
    "    \n",
    "    return Asset(**asset_dict)\n",
    "    "
   ]
  },
  {
   "cell_type": "markdown",
   "metadata": {},
   "source": [
    "# Simple strategy"
   ]
  },
  {
   "cell_type": "markdown",
   "metadata": {},
   "source": [
    "Each day the strategy will randompy pick on of 100 assets in the universe, which has price greater MA200"
   ]
  },
  {
   "cell_type": "code",
   "execution_count": 7,
   "metadata": {},
   "outputs": [],
   "source": [
    "class SimpleStrategy(Strategy):\n",
    "    name = \"SimpleStrategy\"\n",
    "    \n",
    "    def calculate(self, asset: Asset) -> pd.DataFrame:\n",
    "        \"\"\"\n",
    "        Calculates main logic of the strategy, this method must return pd.DataFrame or None (if asset is filtered at all)\n",
    "        This information is used by portfolio composition stage\n",
    "        \"\"\"\n",
    "        \n",
    "        # Check if asset is greater MA200\n",
    "        ohlc = asset.quotes()\n",
    "                        \n",
    "        ma200 =  ohlc['c'].rolling(200).mean()\n",
    "        \n",
    "        # Checking strategy params\n",
    "        is_long = self.params.get('long', True)\n",
    "        if is_long:\n",
    "            is_gt_ma200 = ohlc['c'] > ma200\n",
    "        else:\n",
    "            is_gt_ma200 = ohlc['c'] < ma200\n",
    "        \n",
    "        return pd.DataFrame({\n",
    "            'is_gt_ma200': is_gt_ma200,\n",
    "            'ma200': ma200,           \n",
    "        })\n",
    "\n",
    "    def compose_portfolio(self, date: datetime, account: Account, mf: MFrame) -> dict:\n",
    "        \"\"\"\n",
    "        Returns a dictionary of portfolio composition at specific 'date'\n",
    "        :param date: analysis date\n",
    "        :param account: actual account at the previous date (see. Account class interface)\n",
    "        :param mf: composite of metrics returned by self.calculate() method at 'date'\n",
    "\n",
    "        :return: dictionary of  {asset_class_instance: float_opened_quantity, ... }\n",
    "\n",
    "        -----------\n",
    "        mf - cheat sheet\n",
    "        -----------\n",
    "        mf.assets - list of all assets\n",
    "        mf.columns - list of all columns / metrics\n",
    "        mf['metric_name'] - get metric 'metric_name' numpy array across all assets\n",
    "        for asset, row in mf.items():  - iterate over all assets and rows, you can use row['metric_name'] too\n",
    "        mf.get_at('asset_ticker', 'metric_name') - get scalar value of 'metric_name' for asset 'asset_ticker'\n",
    "        mf.get_asset('asset_ticker') - get asset object by ticker name\n",
    "        mf.get_filtered((mf['some_metric'] > 0) & (mf['another_metric'] == 1), sort_by_col='another_metric'[or None]) - get filtered and sorted data\n",
    "        for (asset, m_data) in zip(*mf.get_filtered(_cond, sort_by_col='ma200')): - iterate over filtered and sorted results\n",
    "        filtered_assets, filtere_data  = mf.get_filtered(..some condition..) - get filtered asset list and metrics\n",
    "        mf.as_dataframe() - converts MFrame to Pandas.DataFrame. Warning: calculations might become much slower!\n",
    "        \"\"\"\n",
    "        position = {}\n",
    "        flt_assets, flt_data = mf.get_filtered(mf['is_gt_ma200'] == 1)\n",
    "        \n",
    "        if len(flt_assets) > 0:\n",
    "            # Randomly pick one of assets that has Close > MA(Close, 200)\n",
    "            rnd_asset_idx = np.random.randint(0, len(flt_assets))\n",
    "\n",
    "            # Open long position on that asset\n",
    "            position[flt_assets[rnd_asset_idx]] = 1.0 if self.params.get('long', True) else -1.0\n",
    "          \n",
    "        return position\n",
    "        "
   ]
  },
  {
   "cell_type": "markdown",
   "metadata": {},
   "source": [
    "# Initialize and run backtester"
   ]
  },
  {
   "cell_type": "code",
   "execution_count": 8,
   "metadata": {},
   "outputs": [],
   "source": [
    "strategy_long = SimpleStrategy(**{\n",
    "    'params': {\n",
    "        'long': True\n",
    "    }\n",
    "})\n",
    "\n",
    "strategy_short = SimpleStrategy(**{\n",
    "    'params': {\n",
    "        'long': False\n",
    "    }\n",
    "})\n",
    "\n",
    "\n",
    "assets100 = [make_rnd_asset(i) for i in range(100)]\n",
    "\n",
    "# Initialize backtester class\n",
    "acc_long = Backtester.run(strategy_long,\n",
    "                          assets100, \n",
    "                          acc_name='Random100Long',\n",
    "                          acc_initial_capital=1000,                  \n",
    "                         )\n",
    "\n",
    "acc_short = Backtester.run(strategy_short,\n",
    "                  assets100, \n",
    "                  acc_name='Random100Short',\n",
    "                  acc_initial_capital=1000,                  \n",
    "                 )"
   ]
  },
  {
   "cell_type": "markdown",
   "metadata": {},
   "source": [
    "### Last opened position"
   ]
  },
  {
   "cell_type": "code",
   "execution_count": 9,
   "metadata": {},
   "outputs": [
    {
     "data": {
      "text/plain": [
       "{Asset<RND_30>: RND_30 x 1.0}"
      ]
     },
     "execution_count": 9,
     "metadata": {},
     "output_type": "execute_result"
    }
   ],
   "source": [
    "acc_long.position()"
   ]
  },
  {
   "cell_type": "code",
   "execution_count": 10,
   "metadata": {},
   "outputs": [
    {
     "data": {
      "text/plain": [
       "{Asset<RND_68>: RND_68 x -1.0}"
      ]
     },
     "execution_count": 10,
     "metadata": {},
     "output_type": "execute_result"
    }
   ],
   "source": [
    "acc_short.position()"
   ]
  },
  {
   "cell_type": "markdown",
   "metadata": {},
   "source": [
    "# Backtesting report"
   ]
  },
  {
   "cell_type": "code",
   "execution_count": 11,
   "metadata": {},
   "outputs": [],
   "source": [
    "rpt = Report([acc_long, acc_short])"
   ]
  },
  {
   "cell_type": "code",
   "execution_count": 12,
   "metadata": {},
   "outputs": [
    {
     "data": {
      "text/html": [
       "<div>\n",
       "<style scoped>\n",
       "    .dataframe tbody tr th:only-of-type {\n",
       "        vertical-align: middle;\n",
       "    }\n",
       "\n",
       "    .dataframe tbody tr th {\n",
       "        vertical-align: top;\n",
       "    }\n",
       "\n",
       "    .dataframe thead th {\n",
       "        text-align: right;\n",
       "    }\n",
       "</style>\n",
       "<table border=\"1\" class=\"dataframe\">\n",
       "  <thead>\n",
       "    <tr style=\"text-align: right;\">\n",
       "      <th></th>\n",
       "      <th>Random100Long</th>\n",
       "      <th>Random100Short</th>\n",
       "    </tr>\n",
       "  </thead>\n",
       "  <tbody>\n",
       "    <tr>\n",
       "      <th>Equity</th>\n",
       "      <td>994.523355</td>\n",
       "      <td>1131.273310</td>\n",
       "    </tr>\n",
       "    <tr>\n",
       "      <th>CAGR %</th>\n",
       "      <td>-0.068621</td>\n",
       "      <td>1.553713</td>\n",
       "    </tr>\n",
       "    <tr>\n",
       "      <th>NetProfit $</th>\n",
       "      <td>-5.476645</td>\n",
       "      <td>131.273310</td>\n",
       "    </tr>\n",
       "    <tr>\n",
       "      <th>NetProfit %</th>\n",
       "      <td>-0.547664</td>\n",
       "      <td>13.127331</td>\n",
       "    </tr>\n",
       "    <tr>\n",
       "      <th>MaxDD $</th>\n",
       "      <td>-62.189393</td>\n",
       "      <td>-31.798886</td>\n",
       "    </tr>\n",
       "    <tr>\n",
       "      <th>MaxDD %</th>\n",
       "      <td>-6.141793</td>\n",
       "      <td>-2.862107</td>\n",
       "    </tr>\n",
       "    <tr>\n",
       "      <th>NumberOfTrades</th>\n",
       "      <td>2674.000000</td>\n",
       "      <td>2673.000000</td>\n",
       "    </tr>\n",
       "    <tr>\n",
       "      <th>WinRate</th>\n",
       "      <td>0.503740</td>\n",
       "      <td>0.522634</td>\n",
       "    </tr>\n",
       "    <tr>\n",
       "      <th>CAGR/MDD</th>\n",
       "      <td>-0.011173</td>\n",
       "      <td>0.542856</td>\n",
       "    </tr>\n",
       "    <tr>\n",
       "      <th>CapitalInvested (Avg)</th>\n",
       "      <td>1000.000000</td>\n",
       "      <td>1000.000000</td>\n",
       "    </tr>\n",
       "    <tr>\n",
       "      <th>CapitalInvested (Total)</th>\n",
       "      <td>1000.000000</td>\n",
       "      <td>1000.000000</td>\n",
       "    </tr>\n",
       "  </tbody>\n",
       "</table>\n",
       "</div>"
      ],
      "text/plain": [
       "                         Random100Long  Random100Short\n",
       "Equity                      994.523355     1131.273310\n",
       "CAGR %                       -0.068621        1.553713\n",
       "NetProfit $                  -5.476645      131.273310\n",
       "NetProfit %                  -0.547664       13.127331\n",
       "MaxDD $                     -62.189393      -31.798886\n",
       "MaxDD %                      -6.141793       -2.862107\n",
       "NumberOfTrades             2674.000000     2673.000000\n",
       "WinRate                       0.503740        0.522634\n",
       "CAGR/MDD                     -0.011173        0.542856\n",
       "CapitalInvested (Avg)      1000.000000     1000.000000\n",
       "CapitalInvested (Total)    1000.000000     1000.000000"
      ]
     },
     "execution_count": 12,
     "metadata": {},
     "output_type": "execute_result"
    }
   ],
   "source": [
    "rpt.stats()"
   ]
  },
  {
   "cell_type": "markdown",
   "metadata": {},
   "source": [
    "### Long trades"
   ]
  },
  {
   "cell_type": "code",
   "execution_count": 13,
   "metadata": {},
   "outputs": [
    {
     "data": {
      "text/html": [
       "<div>\n",
       "<style scoped>\n",
       "    .dataframe tbody tr th:only-of-type {\n",
       "        vertical-align: middle;\n",
       "    }\n",
       "\n",
       "    .dataframe tbody tr th {\n",
       "        vertical-align: top;\n",
       "    }\n",
       "\n",
       "    .dataframe thead th {\n",
       "        text-align: right;\n",
       "    }\n",
       "</style>\n",
       "<table border=\"1\" class=\"dataframe\">\n",
       "  <thead>\n",
       "    <tr style=\"text-align: right;\">\n",
       "      <th></th>\n",
       "      <th>asset</th>\n",
       "      <th>date_entry</th>\n",
       "      <th>date_exit</th>\n",
       "      <th>side</th>\n",
       "      <th>n_transactions</th>\n",
       "      <th>wavg_price_entered</th>\n",
       "      <th>wavg_price_exited</th>\n",
       "      <th>qty_entered</th>\n",
       "      <th>qty_exited</th>\n",
       "      <th>pnl</th>\n",
       "      <th>costs</th>\n",
       "    </tr>\n",
       "  </thead>\n",
       "  <tbody>\n",
       "    <tr>\n",
       "      <th>2669</th>\n",
       "      <td>RND_89</td>\n",
       "      <td>2017-12-27</td>\n",
       "      <td>2017-12-29</td>\n",
       "      <td>1</td>\n",
       "      <td>2</td>\n",
       "      <td>35.024112</td>\n",
       "      <td>34.432016</td>\n",
       "      <td>1.0</td>\n",
       "      <td>1.0</td>\n",
       "      <td>-0.592096</td>\n",
       "      <td>0.0</td>\n",
       "    </tr>\n",
       "    <tr>\n",
       "      <th>2670</th>\n",
       "      <td>RND_36</td>\n",
       "      <td>2017-12-29</td>\n",
       "      <td>2017-12-30</td>\n",
       "      <td>1</td>\n",
       "      <td>2</td>\n",
       "      <td>-13.169558</td>\n",
       "      <td>-13.793466</td>\n",
       "      <td>1.0</td>\n",
       "      <td>1.0</td>\n",
       "      <td>-0.623908</td>\n",
       "      <td>0.0</td>\n",
       "    </tr>\n",
       "    <tr>\n",
       "      <th>2671</th>\n",
       "      <td>RND_26</td>\n",
       "      <td>2017-12-30</td>\n",
       "      <td>2017-12-31</td>\n",
       "      <td>1</td>\n",
       "      <td>2</td>\n",
       "      <td>44.609764</td>\n",
       "      <td>46.320653</td>\n",
       "      <td>1.0</td>\n",
       "      <td>1.0</td>\n",
       "      <td>1.710889</td>\n",
       "      <td>0.0</td>\n",
       "    </tr>\n",
       "    <tr>\n",
       "      <th>2672</th>\n",
       "      <td>RND_80</td>\n",
       "      <td>2017-12-31</td>\n",
       "      <td>2018-01-01</td>\n",
       "      <td>1</td>\n",
       "      <td>2</td>\n",
       "      <td>0.172477</td>\n",
       "      <td>NaN</td>\n",
       "      <td>1.0</td>\n",
       "      <td>1.0</td>\n",
       "      <td>1.570907</td>\n",
       "      <td>0.0</td>\n",
       "    </tr>\n",
       "    <tr>\n",
       "      <th>2673</th>\n",
       "      <td>RND_30</td>\n",
       "      <td>2018-01-01</td>\n",
       "      <td>2018-01-01</td>\n",
       "      <td>1</td>\n",
       "      <td>1</td>\n",
       "      <td>NaN</td>\n",
       "      <td>NaN</td>\n",
       "      <td>1.0</td>\n",
       "      <td>0.0</td>\n",
       "      <td>0.000000</td>\n",
       "      <td>0.0</td>\n",
       "    </tr>\n",
       "  </tbody>\n",
       "</table>\n",
       "</div>"
      ],
      "text/plain": [
       "       asset date_entry  date_exit  side  n_transactions  wavg_price_entered  \\\n",
       "2669  RND_89 2017-12-27 2017-12-29     1               2           35.024112   \n",
       "2670  RND_36 2017-12-29 2017-12-30     1               2          -13.169558   \n",
       "2671  RND_26 2017-12-30 2017-12-31     1               2           44.609764   \n",
       "2672  RND_80 2017-12-31 2018-01-01     1               2            0.172477   \n",
       "2673  RND_30 2018-01-01 2018-01-01     1               1                 NaN   \n",
       "\n",
       "      wavg_price_exited  qty_entered  qty_exited       pnl  costs  \n",
       "2669          34.432016          1.0         1.0 -0.592096    0.0  \n",
       "2670         -13.793466          1.0         1.0 -0.623908    0.0  \n",
       "2671          46.320653          1.0         1.0  1.710889    0.0  \n",
       "2672                NaN          1.0         1.0  1.570907    0.0  \n",
       "2673                NaN          1.0         0.0  0.000000    0.0  "
      ]
     },
     "execution_count": 13,
     "metadata": {},
     "output_type": "execute_result"
    }
   ],
   "source": [
    "df_trades = rpt.trades('Random100Long')\n",
    "df_trades.tail()"
   ]
  },
  {
   "cell_type": "markdown",
   "metadata": {},
   "source": [
    "### Short trades"
   ]
  },
  {
   "cell_type": "code",
   "execution_count": 14,
   "metadata": {},
   "outputs": [
    {
     "data": {
      "text/html": [
       "<div>\n",
       "<style scoped>\n",
       "    .dataframe tbody tr th:only-of-type {\n",
       "        vertical-align: middle;\n",
       "    }\n",
       "\n",
       "    .dataframe tbody tr th {\n",
       "        vertical-align: top;\n",
       "    }\n",
       "\n",
       "    .dataframe thead th {\n",
       "        text-align: right;\n",
       "    }\n",
       "</style>\n",
       "<table border=\"1\" class=\"dataframe\">\n",
       "  <thead>\n",
       "    <tr style=\"text-align: right;\">\n",
       "      <th></th>\n",
       "      <th>asset</th>\n",
       "      <th>date_entry</th>\n",
       "      <th>date_exit</th>\n",
       "      <th>side</th>\n",
       "      <th>n_transactions</th>\n",
       "      <th>wavg_price_entered</th>\n",
       "      <th>wavg_price_exited</th>\n",
       "      <th>qty_entered</th>\n",
       "      <th>qty_exited</th>\n",
       "      <th>pnl</th>\n",
       "      <th>costs</th>\n",
       "    </tr>\n",
       "  </thead>\n",
       "  <tbody>\n",
       "    <tr>\n",
       "      <th>2668</th>\n",
       "      <td>RND_55</td>\n",
       "      <td>2017-12-27</td>\n",
       "      <td>2017-12-29</td>\n",
       "      <td>-1</td>\n",
       "      <td>2</td>\n",
       "      <td>-1.639846</td>\n",
       "      <td>-2.156508</td>\n",
       "      <td>1.0</td>\n",
       "      <td>1.0</td>\n",
       "      <td>0.516662</td>\n",
       "      <td>0.0</td>\n",
       "    </tr>\n",
       "    <tr>\n",
       "      <th>2669</th>\n",
       "      <td>RND_12</td>\n",
       "      <td>2017-12-29</td>\n",
       "      <td>2017-12-30</td>\n",
       "      <td>-1</td>\n",
       "      <td>2</td>\n",
       "      <td>5.618056</td>\n",
       "      <td>5.254350</td>\n",
       "      <td>1.0</td>\n",
       "      <td>1.0</td>\n",
       "      <td>0.363706</td>\n",
       "      <td>0.0</td>\n",
       "    </tr>\n",
       "    <tr>\n",
       "      <th>2670</th>\n",
       "      <td>RND_53</td>\n",
       "      <td>2017-12-30</td>\n",
       "      <td>2017-12-31</td>\n",
       "      <td>-1</td>\n",
       "      <td>2</td>\n",
       "      <td>-20.915268</td>\n",
       "      <td>-21.036293</td>\n",
       "      <td>1.0</td>\n",
       "      <td>1.0</td>\n",
       "      <td>0.121025</td>\n",
       "      <td>0.0</td>\n",
       "    </tr>\n",
       "    <tr>\n",
       "      <th>2671</th>\n",
       "      <td>RND_52</td>\n",
       "      <td>2017-12-31</td>\n",
       "      <td>2018-01-01</td>\n",
       "      <td>-1</td>\n",
       "      <td>2</td>\n",
       "      <td>36.954616</td>\n",
       "      <td>NaN</td>\n",
       "      <td>1.0</td>\n",
       "      <td>1.0</td>\n",
       "      <td>0.223476</td>\n",
       "      <td>0.0</td>\n",
       "    </tr>\n",
       "    <tr>\n",
       "      <th>2672</th>\n",
       "      <td>RND_68</td>\n",
       "      <td>2018-01-01</td>\n",
       "      <td>2018-01-01</td>\n",
       "      <td>-1</td>\n",
       "      <td>1</td>\n",
       "      <td>NaN</td>\n",
       "      <td>NaN</td>\n",
       "      <td>1.0</td>\n",
       "      <td>0.0</td>\n",
       "      <td>0.000000</td>\n",
       "      <td>0.0</td>\n",
       "    </tr>\n",
       "  </tbody>\n",
       "</table>\n",
       "</div>"
      ],
      "text/plain": [
       "       asset date_entry  date_exit  side  n_transactions  wavg_price_entered  \\\n",
       "2668  RND_55 2017-12-27 2017-12-29    -1               2           -1.639846   \n",
       "2669  RND_12 2017-12-29 2017-12-30    -1               2            5.618056   \n",
       "2670  RND_53 2017-12-30 2017-12-31    -1               2          -20.915268   \n",
       "2671  RND_52 2017-12-31 2018-01-01    -1               2           36.954616   \n",
       "2672  RND_68 2018-01-01 2018-01-01    -1               1                 NaN   \n",
       "\n",
       "      wavg_price_exited  qty_entered  qty_exited       pnl  costs  \n",
       "2668          -2.156508          1.0         1.0  0.516662    0.0  \n",
       "2669           5.254350          1.0         1.0  0.363706    0.0  \n",
       "2670         -21.036293          1.0         1.0  0.121025    0.0  \n",
       "2671                NaN          1.0         1.0  0.223476    0.0  \n",
       "2672                NaN          1.0         0.0  0.000000    0.0  "
      ]
     },
     "execution_count": 14,
     "metadata": {},
     "output_type": "execute_result"
    }
   ],
   "source": [
    "df_trades = rpt.trades('Random100Short')\n",
    "df_trades.tail()"
   ]
  },
  {
   "cell_type": "code",
   "execution_count": 15,
   "metadata": {},
   "outputs": [
    {
     "data": {
      "text/plain": [
       "<matplotlib.axes._subplots.AxesSubplot at 0x7f1284634780>"
      ]
     },
     "execution_count": 15,
     "metadata": {},
     "output_type": "execute_result"
    },
    {
     "data": {
      "image/png": "[encoded data removed]",
      "text/plain": [
       "<matplotlib.figure.Figure at 0x7f1284634978>"
      ]
     },
     "metadata": {},
     "output_type": "display_data"
    }
   ],
   "source": [
    "df_equity = rpt.series('equity')\n",
    "df_equity.plot()"
   ]
  },
  {
   "cell_type": "markdown",
   "metadata": {},
   "source": [
    "# Creating metastrategy\n",
    "Create metastartegy that uses 'Random100Long' and 'Random100Short' accounts as underlying assets and rebalance the portfolio using these assets"
   ]
  },
  {
   "cell_type": "code",
   "execution_count": 16,
   "metadata": {},
   "outputs": [],
   "source": [
    "#\n",
    "# Important: beware of shorting synthetic assets, because costs can be incorrectly estimated \n",
    "#\n",
    "\n",
    "class SimpleMetaStrategy(Strategy):\n",
    "    name = \"SimpleMetaStrategy\"\n",
    "    \n",
    "    def calculate(self, asset: Asset) -> pd.DataFrame:\n",
    "        \"\"\"\n",
    "        Calculates main logic of the strategy, this method must return pd.DataFrame or None (if asset is filtered at all)\n",
    "        This information is used by portfolio composition stage\n",
    "        \"\"\"\n",
    "        \n",
    "        # Check if asset is greater MA200\n",
    "        ohlc = asset.quotes()\n",
    "                        \n",
    "        ma200 =  ohlc['c'].rolling(200).mean()\n",
    "        \n",
    "        is_gt_ma200 = ohlc['c'] > ma200\n",
    "        \n",
    "        return pd.DataFrame({\n",
    "            'is_gt_ma200': is_gt_ma200,\n",
    "            'ma200': ma200,           \n",
    "        })\n",
    "\n",
    "    def compose_portfolio(self, date: datetime, account: Account, mf: MFrame) -> dict:\n",
    "        \"\"\"\n",
    "        Returns a dictionary of portfolio composition at specific 'date'\n",
    "        :param date: analysis date\n",
    "        :param account: actual account at the previous date (see. Account class interface)\n",
    "        :param mf: composite of metrics returned by self.calculate() method at 'date'\n",
    "\n",
    "        :return: dictionary of  {asset_class_instance: float_opened_quantity, ... }\n",
    "\n",
    "        -----------\n",
    "        mf - cheat sheet\n",
    "        -----------\n",
    "        mf.assets - list of all assets\n",
    "        mf.columns - list of all columns / metrics\n",
    "        mf['metric_name'] - get metric 'metric_name' numpy array across all assets\n",
    "        for asset, row in mf.items():  - iterate over all assets and rows, you can use row['metric_name'] too\n",
    "        mf.get_at('asset_ticker', 'metric_name') - get scalar value of 'metric_name' for asset 'asset_ticker'\n",
    "        mf.get_asset('asset_ticker') - get asset object by ticker name\n",
    "        mf.get_filtered((mf['some_metric'] > 0) & (mf['another_metric'] == 1), sort_by_col='another_metric'[or None]) - get filtered and sorted data\n",
    "        for (asset, m_data) in zip(*mf.get_filtered(_cond, sort_by_col='ma200')): - iterate over filtered and sorted results\n",
    "        filtered_assets, filtere_data  = mf.get_filtered(..some condition..) - get filtered asset list and metrics\n",
    "        mf.as_dataframe() - converts MFrame to Pandas.DataFrame. Warning: calculations might become much slower!\n",
    "        \"\"\"\n",
    "        position = {}        \n",
    "        flt_assets, flt_data = mf.get_filtered(mf['is_gt_ma200'] == 1)\n",
    "        \n",
    "        for asset in flt_assets:\n",
    "            # Open long position on synthetic asset if its eqity is higher than 200 MA\n",
    "\n",
    "            #\n",
    "            # Important: beware of shorting synthetic assets, because costs can be incorrectly estimated \n",
    "            #\n",
    "            position[asset] = 1.0\n",
    "          \n",
    "        return position"
   ]
  },
  {
   "cell_type": "code",
   "execution_count": 21,
   "metadata": {},
   "outputs": [],
   "source": [
    "_acc_long_asset = acc_long.as_asset()\n",
    "_acc_short_asset = acc_short.as_asset()\n",
    "\n",
    "# Initialize backtester class for meta\n",
    "metastrategy = SimpleMetaStrategy()\n",
    "metaassets = [_acc_long_asset, _acc_short_asset]\n",
    "\n",
    "meta_acc = Backtester.run(metastrategy,\n",
    "                  metaassets, \n",
    "                  acc_initial_capital=10000,                  \n",
    "                 )"
   ]
  },
  {
   "cell_type": "markdown",
   "metadata": {},
   "source": [
    "## Meta account position"
   ]
  },
  {
   "cell_type": "code",
   "execution_count": 22,
   "metadata": {},
   "outputs": [
    {
     "data": {
      "text/plain": [
       "{Asset<Random100Long>: Random100Long x 1.0}"
      ]
     },
     "execution_count": 22,
     "metadata": {},
     "output_type": "execute_result"
    }
   ],
   "source": [
    "meta_acc.position()"
   ]
  },
  {
   "cell_type": "markdown",
   "metadata": {},
   "source": [
    "# Meta backtesting report"
   ]
  },
  {
   "cell_type": "code",
   "execution_count": 23,
   "metadata": {},
   "outputs": [],
   "source": [
    "rpt_meta = Report([meta_acc])"
   ]
  },
  {
   "cell_type": "markdown",
   "metadata": {},
   "source": [
    "## Composite stats"
   ]
  },
  {
   "cell_type": "code",
   "execution_count": 24,
   "metadata": {},
   "outputs": [
    {
     "data": {
      "text/html": [
       "<div>\n",
       "<style scoped>\n",
       "    .dataframe tbody tr th:only-of-type {\n",
       "        vertical-align: middle;\n",
       "    }\n",
       "\n",
       "    .dataframe tbody tr th {\n",
       "        vertical-align: top;\n",
       "    }\n",
       "\n",
       "    .dataframe thead th {\n",
       "        text-align: right;\n",
       "    }\n",
       "</style>\n",
       "<table border=\"1\" class=\"dataframe\">\n",
       "  <thead>\n",
       "    <tr style=\"text-align: right;\">\n",
       "      <th></th>\n",
       "      <th>SimpleMetaStrategy</th>\n",
       "    </tr>\n",
       "  </thead>\n",
       "  <tbody>\n",
       "    <tr>\n",
       "      <th>Equity</th>\n",
       "      <td>10078.831942</td>\n",
       "    </tr>\n",
       "    <tr>\n",
       "      <th>CAGR %</th>\n",
       "      <td>0.098200</td>\n",
       "    </tr>\n",
       "    <tr>\n",
       "      <th>NetProfit $</th>\n",
       "      <td>78.831942</td>\n",
       "    </tr>\n",
       "    <tr>\n",
       "      <th>NetProfit %</th>\n",
       "      <td>0.788319</td>\n",
       "    </tr>\n",
       "    <tr>\n",
       "      <th>MaxDD $</th>\n",
       "      <td>-54.564411</td>\n",
       "    </tr>\n",
       "    <tr>\n",
       "      <th>MaxDD %</th>\n",
       "      <td>-0.541411</td>\n",
       "    </tr>\n",
       "    <tr>\n",
       "      <th>NumberOfTrades</th>\n",
       "      <td>114.000000</td>\n",
       "    </tr>\n",
       "    <tr>\n",
       "      <th>WinRate</th>\n",
       "      <td>0.456140</td>\n",
       "    </tr>\n",
       "    <tr>\n",
       "      <th>CAGR/MDD</th>\n",
       "      <td>0.181377</td>\n",
       "    </tr>\n",
       "    <tr>\n",
       "      <th>CapitalInvested (Avg)</th>\n",
       "      <td>10000.000000</td>\n",
       "    </tr>\n",
       "    <tr>\n",
       "      <th>CapitalInvested (Total)</th>\n",
       "      <td>10000.000000</td>\n",
       "    </tr>\n",
       "  </tbody>\n",
       "</table>\n",
       "</div>"
      ],
      "text/plain": [
       "                         SimpleMetaStrategy\n",
       "Equity                         10078.831942\n",
       "CAGR %                             0.098200\n",
       "NetProfit $                       78.831942\n",
       "NetProfit %                        0.788319\n",
       "MaxDD $                          -54.564411\n",
       "MaxDD %                           -0.541411\n",
       "NumberOfTrades                   114.000000\n",
       "WinRate                            0.456140\n",
       "CAGR/MDD                           0.181377\n",
       "CapitalInvested (Avg)          10000.000000\n",
       "CapitalInvested (Total)        10000.000000"
      ]
     },
     "execution_count": 24,
     "metadata": {},
     "output_type": "execute_result"
    }
   ],
   "source": [
    "rpt_meta.stats()"
   ]
  },
  {
   "cell_type": "markdown",
   "metadata": {},
   "source": [
    "## Composite trades"
   ]
  },
  {
   "cell_type": "code",
   "execution_count": 26,
   "metadata": {},
   "outputs": [
    {
     "data": {
      "text/html": [
       "<div>\n",
       "<style scoped>\n",
       "    .dataframe tbody tr th:only-of-type {\n",
       "        vertical-align: middle;\n",
       "    }\n",
       "\n",
       "    .dataframe tbody tr th {\n",
       "        vertical-align: top;\n",
       "    }\n",
       "\n",
       "    .dataframe thead th {\n",
       "        text-align: right;\n",
       "    }\n",
       "</style>\n",
       "<table border=\"1\" class=\"dataframe\">\n",
       "  <thead>\n",
       "    <tr style=\"text-align: right;\">\n",
       "      <th></th>\n",
       "      <th>asset</th>\n",
       "      <th>date_entry</th>\n",
       "      <th>date_exit</th>\n",
       "      <th>side</th>\n",
       "      <th>n_transactions</th>\n",
       "      <th>wavg_price_entered</th>\n",
       "      <th>wavg_price_exited</th>\n",
       "      <th>qty_entered</th>\n",
       "      <th>qty_exited</th>\n",
       "      <th>pnl</th>\n",
       "      <th>costs</th>\n",
       "    </tr>\n",
       "  </thead>\n",
       "  <tbody>\n",
       "    <tr>\n",
       "      <th>109</th>\n",
       "      <td>Random100Short</td>\n",
       "      <td>2017-10-19</td>\n",
       "      <td>2017-10-22</td>\n",
       "      <td>1</td>\n",
       "      <td>2</td>\n",
       "      <td>1128.801122</td>\n",
       "      <td>1130.314162</td>\n",
       "      <td>1.0</td>\n",
       "      <td>1.0</td>\n",
       "      <td>1.513040</td>\n",
       "      <td>-0.0</td>\n",
       "    </tr>\n",
       "    <tr>\n",
       "      <th>110</th>\n",
       "      <td>Random100Short</td>\n",
       "      <td>2017-12-05</td>\n",
       "      <td>2017-12-07</td>\n",
       "      <td>1</td>\n",
       "      <td>2</td>\n",
       "      <td>1136.930878</td>\n",
       "      <td>1136.880096</td>\n",
       "      <td>1.0</td>\n",
       "      <td>1.0</td>\n",
       "      <td>-0.050783</td>\n",
       "      <td>-0.0</td>\n",
       "    </tr>\n",
       "    <tr>\n",
       "      <th>111</th>\n",
       "      <td>Random100Short</td>\n",
       "      <td>2017-12-08</td>\n",
       "      <td>2017-12-10</td>\n",
       "      <td>1</td>\n",
       "      <td>2</td>\n",
       "      <td>1135.955540</td>\n",
       "      <td>1135.912414</td>\n",
       "      <td>1.0</td>\n",
       "      <td>1.0</td>\n",
       "      <td>-0.043126</td>\n",
       "      <td>-0.0</td>\n",
       "    </tr>\n",
       "    <tr>\n",
       "      <th>112</th>\n",
       "      <td>Random100Short</td>\n",
       "      <td>2017-12-13</td>\n",
       "      <td>2017-12-15</td>\n",
       "      <td>1</td>\n",
       "      <td>2</td>\n",
       "      <td>1134.884648</td>\n",
       "      <td>1134.874144</td>\n",
       "      <td>1.0</td>\n",
       "      <td>1.0</td>\n",
       "      <td>-0.010504</td>\n",
       "      <td>-0.0</td>\n",
       "    </tr>\n",
       "    <tr>\n",
       "      <th>113</th>\n",
       "      <td>Random100Long</td>\n",
       "      <td>2018-01-01</td>\n",
       "      <td>2018-01-01</td>\n",
       "      <td>1</td>\n",
       "      <td>1</td>\n",
       "      <td>NaN</td>\n",
       "      <td>NaN</td>\n",
       "      <td>1.0</td>\n",
       "      <td>0.0</td>\n",
       "      <td>0.000000</td>\n",
       "      <td>-0.0</td>\n",
       "    </tr>\n",
       "  </tbody>\n",
       "</table>\n",
       "</div>"
      ],
      "text/plain": [
       "              asset date_entry  date_exit  side  n_transactions  \\\n",
       "109  Random100Short 2017-10-19 2017-10-22     1               2   \n",
       "110  Random100Short 2017-12-05 2017-12-07     1               2   \n",
       "111  Random100Short 2017-12-08 2017-12-10     1               2   \n",
       "112  Random100Short 2017-12-13 2017-12-15     1               2   \n",
       "113   Random100Long 2018-01-01 2018-01-01     1               1   \n",
       "\n",
       "     wavg_price_entered  wavg_price_exited  qty_entered  qty_exited       pnl  \\\n",
       "109         1128.801122        1130.314162          1.0         1.0  1.513040   \n",
       "110         1136.930878        1136.880096          1.0         1.0 -0.050783   \n",
       "111         1135.955540        1135.912414          1.0         1.0 -0.043126   \n",
       "112         1134.884648        1134.874144          1.0         1.0 -0.010504   \n",
       "113                 NaN                NaN          1.0         0.0  0.000000   \n",
       "\n",
       "     costs  \n",
       "109   -0.0  \n",
       "110   -0.0  \n",
       "111   -0.0  \n",
       "112   -0.0  \n",
       "113   -0.0  "
      ]
     },
     "execution_count": 26,
     "metadata": {},
     "output_type": "execute_result"
    }
   ],
   "source": [
    "rpt_meta.trades('SimpleMetaStrategy').tail()"
   ]
  },
  {
   "cell_type": "markdown",
   "metadata": {},
   "source": [
    "## Composite equity"
   ]
  },
  {
   "cell_type": "code",
   "execution_count": 29,
   "metadata": {},
   "outputs": [
    {
     "data": {
      "text/plain": [
       "<matplotlib.axes._subplots.AxesSubplot at 0x7f1254f969e8>"
      ]
     },
     "execution_count": 29,
     "metadata": {},
     "output_type": "execute_result"
    },
    {
     "data": {
      "image/png": "[encoded data removed]",
      "text/plain": [
       "<matplotlib.figure.Figure at 0x7f1254f6de48>"
      ]
     },
     "metadata": {},
     "output_type": "display_data"
    }
   ],
   "source": [
    "rpt_meta.series('equity').plot()"
   ]
  },
  {
   "cell_type": "code",
   "execution_count": null,
   "metadata": {},
   "outputs": [],
   "source": []
  }
 ],
 "metadata": {
  "kernelspec": {
   "display_name": "Python 3",
   "language": "python",
   "name": "python3"
  },
  "language_info": {
   "codemirror_mode": {
    "name": "ipython",
    "version": 3
   },
   "file_extension": ".py",
   "mimetype": "text/x-python",
   "name": "python",
   "nbconvert_exporter": "python",
   "pygments_lexer": "ipython3",
   "version": "3.6.0"
  }
 },
 "nbformat": 4,
 "nbformat_minor": 2
}
