{
 "cells": [
  {
   "cell_type": "code",
   "execution_count": 1,
   "metadata": {},
   "outputs": [],
   "source": [
    "import pandas as pd\n",
    "import numpy as np"
   ]
  },
  {
   "cell_type": "code",
   "execution_count": 10,
   "metadata": {},
   "outputs": [
    {
     "name": "stdout",
     "output_type": "stream",
     "text": [
      "Populating the interactive namespace from numpy and matplotlib\n",
      "The autoreload extension is already loaded. To reload it, use:\n",
      "  %reload_ext autoreload\n"
     ]
    }
   ],
   "source": [
    "%pylab inline\n",
    "%load_ext autoreload\n",
    "%autoreload 2"
   ]
  },
  {
   "cell_type": "code",
   "execution_count": 3,
   "metadata": {},
   "outputs": [],
   "source": [
    "from yauber_backtester import Asset, Backtester, Strategy, Account, Report"
   ]
  },
  {
   "cell_type": "markdown",
   "metadata": {},
   "source": [
    "# Create 1000 random assets"
   ]
  },
  {
   "cell_type": "code",
   "execution_count": 4,
   "metadata": {},
   "outputs": [],
   "source": [
    "def make_rnd_asset(name):\n",
    "    dt_index = pd.date_range('2010-01-01', '2018-01-01')\n",
    "    ser = pd.Series(np.random.normal(size=len(dt_index)), index=dt_index).cumsum()\n",
    "    asset_dict = {\n",
    "            'ticker': f'RND_{name}',\n",
    "            'quotes': pd.DataFrame({\n",
    "                'o': ser,\n",
    "                'h': ser,\n",
    "                'l': ser,\n",
    "                'c': ser,\n",
    "                'exec': ser.shift(-1),\n",
    "            }, index=ser.index),\n",
    "    }\n",
    "    \n",
    "    return Asset(**asset_dict)\n",
    "    "
   ]
  },
  {
   "cell_type": "markdown",
   "metadata": {},
   "source": [
    "# Simple strategy"
   ]
  },
  {
   "cell_type": "markdown",
   "metadata": {},
   "source": [
    "Each day the strategy will randompy pick on of 1000 assets in the universe, which has price greater MA200"
   ]
  },
  {
   "cell_type": "code",
   "execution_count": 6,
   "metadata": {},
   "outputs": [],
   "source": [
    "class SimpleStrategy(Strategy):\n",
    "    name = \"SimpleStrategy\"\n",
    "    \n",
    "    def calculate(self, asset: Asset) -> pd.DataFrame:\n",
    "        \"\"\"\n",
    "        Calculates main logic of the strategy, this method must return pd.DataFrame or None (if asset is filtered at all)\n",
    "        This information is used by portfolio composition stage\n",
    "        \"\"\"\n",
    "        \n",
    "        # Check if asset is greater MA200\n",
    "        ohlc = asset.quotes()\n",
    "        \n",
    "        ma200 =  ohlc['c'].rolling(200).mean()\n",
    "        is_gt_ma200 = ohlc['c'] > ma200\n",
    "        \n",
    "        return pd.DataFrame({\n",
    "            'is_gt_ma200': is_gt_ma200,\n",
    "            'ma200': ma200,           \n",
    "        })\n",
    "\n",
    "    def compose_portfolio(self, date: datetime, account: Account, asset_metrics: pd.DataFrame) -> dict:\n",
    "        \"\"\"\n",
    "        Returns a dictionary of portfolio composition at specific 'date'\n",
    "        :param date: analysis date\n",
    "        :param account: actual account at the previous date (see. Account class interface)\n",
    "        :param asset_metrics: composite pd.DataFrame returned by self.calculate() method at 'date'\n",
    "\n",
    "        :return: dictionary of  {asset_class_instance: float_opened_quantity, ... }\n",
    "        Notes:\n",
    "        This method is about managing portfolios, you can implement asset ranking based on asset_metrics, or Money Management strategy.\n",
    "        This method permits opening fractional position sizes, or opening positions with negative capital. You should explicitly manage\n",
    "        all possible issues with portfolio composition and perform all checks in this method.\n",
    "\n",
    "        You can use information returned by asset.info(date) to get all information about the asset. The backtester engine will use this\n",
    "        information to retrieve execution price and costs, as well.\n",
    "        \"\"\"\n",
    "        position = {}        \n",
    "        \n",
    "        # asset_metrics['is_gt_ma200']  is part of pd.DataFrame produced at calculate() method\n",
    "        filtered_assets = asset_metrics['is_gt_ma200'] == 1\n",
    "        \n",
    "        # Randomly pick one of assets that has Close > MA(Close, 200)\n",
    "        rnd_asset_idx = np.random.randint(0, len(filtered_assets.index))\n",
    "        \n",
    "        # Open long position on that asset\n",
    "        position[filtered_assets.index[rnd_asset_idx]] = 1.0\n",
    "          \n",
    "        return position\n",
    "        "
   ]
  },
  {
   "cell_type": "markdown",
   "metadata": {},
   "source": [
    "# Initialize and run backtester"
   ]
  },
  {
   "cell_type": "code",
   "execution_count": 8,
   "metadata": {},
   "outputs": [],
   "source": [
    "strategy = SimpleStrategy()\n",
    "assets1000 = [make_rnd_asset(i) for i in range(1000)]\n",
    "\n",
    "# Initialize backtester class\n",
    "yabt = Backtester(assets1000, \n",
    "                  strategy,\n",
    "                  acc_name='Random1000',\n",
    "                  acc_initial_capital=1000,                  \n",
    "                 )"
   ]
  },
  {
   "cell_type": "markdown",
   "metadata": {},
   "source": [
    "### Backtesting speed\n",
    "1000 assets x 2900 data points"
   ]
  },
  {
   "cell_type": "code",
   "execution_count": 19,
   "metadata": {},
   "outputs": [
    {
     "name": "stdout",
     "output_type": "stream",
     "text": [
      "4.5 s ± 43.2 ms per loop (mean ± std. dev. of 7 runs, 1 loop each)\n"
     ]
    }
   ],
   "source": [
    "%timeit yabt.run()"
   ]
  },
  {
   "cell_type": "markdown",
   "metadata": {},
   "source": [
    "### Run backtester and store results"
   ]
  },
  {
   "cell_type": "code",
   "execution_count": 21,
   "metadata": {},
   "outputs": [],
   "source": [
    "acc = yabt.run()"
   ]
  },
  {
   "cell_type": "markdown",
   "metadata": {},
   "source": [
    "### Aquire account historical series"
   ]
  },
  {
   "cell_type": "code",
   "execution_count": 22,
   "metadata": {},
   "outputs": [
    {
     "data": {
      "text/html": [
       "<div>\n",
       "<style scoped>\n",
       "    .dataframe tbody tr th:only-of-type {\n",
       "        vertical-align: middle;\n",
       "    }\n",
       "\n",
       "    .dataframe tbody tr th {\n",
       "        vertical-align: top;\n",
       "    }\n",
       "\n",
       "    .dataframe thead th {\n",
       "        text-align: right;\n",
       "    }\n",
       "</style>\n",
       "<table border=\"1\" class=\"dataframe\">\n",
       "  <thead>\n",
       "    <tr style=\"text-align: right;\">\n",
       "      <th></th>\n",
       "      <th>capital_invested</th>\n",
       "      <th>costs</th>\n",
       "      <th>equity</th>\n",
       "      <th>margin</th>\n",
       "      <th>pnl</th>\n",
       "    </tr>\n",
       "  </thead>\n",
       "  <tbody>\n",
       "    <tr>\n",
       "      <th>2017-12-28</th>\n",
       "      <td>1000.0</td>\n",
       "      <td>0.0</td>\n",
       "      <td>1086.255496</td>\n",
       "      <td>-14.025577</td>\n",
       "      <td>2.040944</td>\n",
       "    </tr>\n",
       "    <tr>\n",
       "      <th>2017-12-29</th>\n",
       "      <td>1000.0</td>\n",
       "      <td>0.0</td>\n",
       "      <td>1085.395264</td>\n",
       "      <td>-43.333489</td>\n",
       "      <td>-0.860232</td>\n",
       "    </tr>\n",
       "    <tr>\n",
       "      <th>2017-12-30</th>\n",
       "      <td>1000.0</td>\n",
       "      <td>0.0</td>\n",
       "      <td>1086.575227</td>\n",
       "      <td>102.914854</td>\n",
       "      <td>1.179964</td>\n",
       "    </tr>\n",
       "    <tr>\n",
       "      <th>2017-12-31</th>\n",
       "      <td>1000.0</td>\n",
       "      <td>0.0</td>\n",
       "      <td>1088.034866</td>\n",
       "      <td>41.393285</td>\n",
       "      <td>1.459639</td>\n",
       "    </tr>\n",
       "    <tr>\n",
       "      <th>2018-01-01</th>\n",
       "      <td>1000.0</td>\n",
       "      <td>0.0</td>\n",
       "      <td>NaN</td>\n",
       "      <td>NaN</td>\n",
       "      <td>NaN</td>\n",
       "    </tr>\n",
       "  </tbody>\n",
       "</table>\n",
       "</div>"
      ],
      "text/plain": [
       "            capital_invested  costs       equity      margin       pnl\n",
       "2017-12-28            1000.0    0.0  1086.255496  -14.025577  2.040944\n",
       "2017-12-29            1000.0    0.0  1085.395264  -43.333489 -0.860232\n",
       "2017-12-30            1000.0    0.0  1086.575227  102.914854  1.179964\n",
       "2017-12-31            1000.0    0.0  1088.034866   41.393285  1.459639\n",
       "2018-01-01            1000.0    0.0          NaN         NaN       NaN"
      ]
     },
     "execution_count": 22,
     "metadata": {},
     "output_type": "execute_result"
    }
   ],
   "source": [
    "acc_df = acc.as_dataframe()\n",
    "acc_df.tail()"
   ]
  },
  {
   "cell_type": "markdown",
   "metadata": {},
   "source": [
    "### Last opened position"
   ]
  },
  {
   "cell_type": "code",
   "execution_count": 23,
   "metadata": {},
   "outputs": [
    {
     "data": {
      "text/plain": [
       "{Asset<RND_566>: RND_566 x 1.0}"
      ]
     },
     "execution_count": 23,
     "metadata": {},
     "output_type": "execute_result"
    }
   ],
   "source": [
    "acc.position()"
   ]
  },
  {
   "cell_type": "markdown",
   "metadata": {},
   "source": [
    "# Backtesting report"
   ]
  },
  {
   "cell_type": "code",
   "execution_count": 24,
   "metadata": {},
   "outputs": [],
   "source": [
    "rpt = Report([acc])"
   ]
  },
  {
   "cell_type": "code",
   "execution_count": 25,
   "metadata": {},
   "outputs": [
    {
     "data": {
      "text/html": [
       "<div>\n",
       "<style scoped>\n",
       "    .dataframe tbody tr th:only-of-type {\n",
       "        vertical-align: middle;\n",
       "    }\n",
       "\n",
       "    .dataframe tbody tr th {\n",
       "        vertical-align: top;\n",
       "    }\n",
       "\n",
       "    .dataframe thead th {\n",
       "        text-align: right;\n",
       "    }\n",
       "</style>\n",
       "<table border=\"1\" class=\"dataframe\">\n",
       "  <thead>\n",
       "    <tr style=\"text-align: right;\">\n",
       "      <th></th>\n",
       "      <th>Random1000</th>\n",
       "    </tr>\n",
       "  </thead>\n",
       "  <tbody>\n",
       "    <tr>\n",
       "      <th>MaxDD</th>\n",
       "      <td>-30.984228</td>\n",
       "    </tr>\n",
       "    <tr>\n",
       "      <th>NetProfit</th>\n",
       "      <td>1088.034866</td>\n",
       "    </tr>\n",
       "    <tr>\n",
       "      <th>NumberOfTrades</th>\n",
       "      <td>2922.000000</td>\n",
       "    </tr>\n",
       "    <tr>\n",
       "      <th>WinRate</th>\n",
       "      <td>0.518138</td>\n",
       "    </tr>\n",
       "  </tbody>\n",
       "</table>\n",
       "</div>"
      ],
      "text/plain": [
       "                 Random1000\n",
       "MaxDD            -30.984228\n",
       "NetProfit       1088.034866\n",
       "NumberOfTrades  2922.000000\n",
       "WinRate            0.518138"
      ]
     },
     "execution_count": 25,
     "metadata": {},
     "output_type": "execute_result"
    }
   ],
   "source": [
    "rpt.stats()"
   ]
  },
  {
   "cell_type": "code",
   "execution_count": 28,
   "metadata": {},
   "outputs": [
    {
     "data": {
      "text/html": [
       "<div>\n",
       "<style scoped>\n",
       "    .dataframe tbody tr th:only-of-type {\n",
       "        vertical-align: middle;\n",
       "    }\n",
       "\n",
       "    .dataframe tbody tr th {\n",
       "        vertical-align: top;\n",
       "    }\n",
       "\n",
       "    .dataframe thead th {\n",
       "        text-align: right;\n",
       "    }\n",
       "</style>\n",
       "<table border=\"1\" class=\"dataframe\">\n",
       "  <thead>\n",
       "    <tr style=\"text-align: right;\">\n",
       "      <th></th>\n",
       "      <th>asset</th>\n",
       "      <th>date_entry</th>\n",
       "      <th>date_exit</th>\n",
       "      <th>side</th>\n",
       "      <th>n_transactions</th>\n",
       "      <th>wavg_price_entered</th>\n",
       "      <th>wavg_price_exited</th>\n",
       "      <th>qty_entered</th>\n",
       "      <th>qty_exited</th>\n",
       "      <th>pnl</th>\n",
       "      <th>costs</th>\n",
       "    </tr>\n",
       "  </thead>\n",
       "  <tbody>\n",
       "    <tr>\n",
       "      <th>2917</th>\n",
       "      <td>RND_389</td>\n",
       "      <td>2017-12-28</td>\n",
       "      <td>2017-12-29</td>\n",
       "      <td>1</td>\n",
       "      <td>2</td>\n",
       "      <td>-14.025577</td>\n",
       "      <td>-14.885809</td>\n",
       "      <td>1.0</td>\n",
       "      <td>1.0</td>\n",
       "      <td>-0.860232</td>\n",
       "      <td>0.0</td>\n",
       "    </tr>\n",
       "    <tr>\n",
       "      <th>2918</th>\n",
       "      <td>RND_806</td>\n",
       "      <td>2017-12-29</td>\n",
       "      <td>2017-12-30</td>\n",
       "      <td>1</td>\n",
       "      <td>2</td>\n",
       "      <td>-43.333489</td>\n",
       "      <td>-42.153525</td>\n",
       "      <td>1.0</td>\n",
       "      <td>1.0</td>\n",
       "      <td>1.179964</td>\n",
       "      <td>0.0</td>\n",
       "    </tr>\n",
       "    <tr>\n",
       "      <th>2919</th>\n",
       "      <td>RND_176</td>\n",
       "      <td>2017-12-30</td>\n",
       "      <td>2017-12-31</td>\n",
       "      <td>1</td>\n",
       "      <td>2</td>\n",
       "      <td>102.914854</td>\n",
       "      <td>104.374492</td>\n",
       "      <td>1.0</td>\n",
       "      <td>1.0</td>\n",
       "      <td>1.459639</td>\n",
       "      <td>0.0</td>\n",
       "    </tr>\n",
       "    <tr>\n",
       "      <th>2920</th>\n",
       "      <td>RND_642</td>\n",
       "      <td>2017-12-31</td>\n",
       "      <td>2018-01-01</td>\n",
       "      <td>1</td>\n",
       "      <td>2</td>\n",
       "      <td>41.393285</td>\n",
       "      <td>NaN</td>\n",
       "      <td>1.0</td>\n",
       "      <td>1.0</td>\n",
       "      <td>-1.214518</td>\n",
       "      <td>0.0</td>\n",
       "    </tr>\n",
       "    <tr>\n",
       "      <th>2921</th>\n",
       "      <td>RND_566</td>\n",
       "      <td>2018-01-01</td>\n",
       "      <td>2018-01-01</td>\n",
       "      <td>1</td>\n",
       "      <td>1</td>\n",
       "      <td>NaN</td>\n",
       "      <td>NaN</td>\n",
       "      <td>1.0</td>\n",
       "      <td>0.0</td>\n",
       "      <td>0.000000</td>\n",
       "      <td>0.0</td>\n",
       "    </tr>\n",
       "  </tbody>\n",
       "</table>\n",
       "</div>"
      ],
      "text/plain": [
       "        asset date_entry  date_exit  side  n_transactions  wavg_price_entered  \\\n",
       "2917  RND_389 2017-12-28 2017-12-29     1               2          -14.025577   \n",
       "2918  RND_806 2017-12-29 2017-12-30     1               2          -43.333489   \n",
       "2919  RND_176 2017-12-30 2017-12-31     1               2          102.914854   \n",
       "2920  RND_642 2017-12-31 2018-01-01     1               2           41.393285   \n",
       "2921  RND_566 2018-01-01 2018-01-01     1               1                 NaN   \n",
       "\n",
       "      wavg_price_exited  qty_entered  qty_exited       pnl  costs  \n",
       "2917         -14.885809          1.0         1.0 -0.860232    0.0  \n",
       "2918         -42.153525          1.0         1.0  1.179964    0.0  \n",
       "2919         104.374492          1.0         1.0  1.459639    0.0  \n",
       "2920                NaN          1.0         1.0 -1.214518    0.0  \n",
       "2921                NaN          1.0         0.0  0.000000    0.0  "
      ]
     },
     "execution_count": 28,
     "metadata": {},
     "output_type": "execute_result"
    }
   ],
   "source": [
    "df_trades = rpt.trades('Random1000')\n",
    "df_trades.tail()"
   ]
  },
  {
   "cell_type": "code",
   "execution_count": 31,
   "metadata": {},
   "outputs": [
    {
     "data": {
      "text/plain": [
       "<matplotlib.axes._subplots.AxesSubplot at 0x7fc39740fc50>"
      ]
     },
     "execution_count": 31,
     "metadata": {},
     "output_type": "execute_result"
    },
    {
     "data": {
      "image/png": "[encoded data removed]",
      "text/plain": [
       "<matplotlib.figure.Figure at 0x7fc39740fe10>"
      ]
     },
     "metadata": {},
     "output_type": "display_data"
    }
   ],
   "source": [
    "df_equity = rpt.series('equity')\n",
    "df_equity.plot()"
   ]
  },
  {
   "cell_type": "code",
   "execution_count": null,
   "metadata": {},
   "outputs": [],
   "source": []
  }
 ],
 "metadata": {
  "kernelspec": {
   "display_name": "Python 3",
   "language": "python",
   "name": "python3"
  },
  "language_info": {
   "codemirror_mode": {
    "name": "ipython",
    "version": 3
   },
   "file_extension": ".py",
   "mimetype": "text/x-python",
   "name": "python",
   "nbconvert_exporter": "python",
   "pygments_lexer": "ipython3",
   "version": "3.6.0"
  }
 },
 "nbformat": 4,
 "nbformat_minor": 2
}
